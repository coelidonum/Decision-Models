{
  "nbformat": 4,
  "nbformat_minor": 0,
  "metadata": {
    "colab": {
      "name": "flight_genetic_algorithm.ipynb",
      "provenance": [],
      "collapsed_sections": [],
      "machine_shape": "hm"
    },
    "kernelspec": {
      "name": "python3",
      "display_name": "Python 3"
    },
    "accelerator": "GPU"
  },
  "cells": [
    {
      "cell_type": "code",
      "metadata": {
        "id": "YkoX8tO1MmUq",
        "colab_type": "code",
        "outputId": "a182e75a-e3b2-4f89-c78d-6c9edfe9ffe2",
        "colab": {
          "base_uri": "https://localhost:8080/",
          "height": 126
        }
      },
      "source": [
        "from google.colab import drive\n",
        "drive.mount('/content/drive')"
      ],
      "execution_count": 1,
      "outputs": [
        {
          "output_type": "stream",
          "text": [
            "Go to this URL in a browser: https://accounts.google.com/o/oauth2/auth?client_id=947318989803-6bn6qk8qdgf4n4g3pfee6491hc0brc4i.apps.googleusercontent.com&redirect_uri=urn%3aietf%3awg%3aoauth%3a2.0%3aoob&response_type=code&scope=email%20https%3a%2f%2fwww.googleapis.com%2fauth%2fdocs.test%20https%3a%2f%2fwww.googleapis.com%2fauth%2fdrive%20https%3a%2f%2fwww.googleapis.com%2fauth%2fdrive.photos.readonly%20https%3a%2f%2fwww.googleapis.com%2fauth%2fpeopleapi.readonly\n",
            "\n",
            "Enter your authorization code:\n",
            "··········\n",
            "Mounted at /content/drive\n"
          ],
          "name": "stdout"
        }
      ]
    },
    {
      "cell_type": "code",
      "metadata": {
        "id": "5avIf7OOMiDm",
        "colab_type": "code",
        "colab": {}
      },
      "source": [
        "# load libraries\n",
        "import numpy as np \n",
        "import pandas as pd \n",
        "import numpy as np, random, operator, pandas as pd, matplotlib.pyplot as plt\n",
        "from numpy.random import randint\n",
        "from random import random as rnd\n",
        "from random import gauss, randrange\n",
        "import re\n",
        "import scipy.stats as st\n",
        "import pathlib\n",
        "import os\n",
        "import os.path\n",
        "import csv\n",
        "import matplotlib.pyplot as plt\n",
        "import matplotlib.ticker as mticker\n",
        "import os\n",
        "from networkx import *\n",
        "from sklearn import preprocessing\n",
        "import matplotlib\n"
      ],
      "execution_count": 0,
      "outputs": []
    },
    {
      "cell_type": "code",
      "metadata": {
        "id": "Hz8bMhFqECCY",
        "colab_type": "code",
        "outputId": "42aa9451-6b2d-4399-ddbf-8b1741c2ba0f",
        "colab": {
          "base_uri": "https://localhost:8080/",
          "height": 375
        }
      },
      "source": [
        "! pip install pandas_montecarlo --upgrade --no-cache-dir"
      ],
      "execution_count": 3,
      "outputs": [
        {
          "output_type": "stream",
          "text": [
            "Collecting pandas_montecarlo\n",
            "  Downloading https://files.pythonhosted.org/packages/e4/44/80696e3e13cc249b5135b6d2fb55b16699863e6d5b584bfa059720c189d0/pandas-montecarlo-0.0.2.tar.gz\n",
            "Requirement already satisfied, skipping upgrade: pandas in /usr/local/lib/python3.6/dist-packages (from pandas_montecarlo) (0.25.3)\n",
            "Requirement already satisfied, skipping upgrade: matplotlib in /usr/local/lib/python3.6/dist-packages (from pandas_montecarlo) (3.1.2)\n",
            "Requirement already satisfied, skipping upgrade: numpy>=1.13.3 in /usr/local/lib/python3.6/dist-packages (from pandas->pandas_montecarlo) (1.17.5)\n",
            "Requirement already satisfied, skipping upgrade: pytz>=2017.2 in /usr/local/lib/python3.6/dist-packages (from pandas->pandas_montecarlo) (2018.9)\n",
            "Requirement already satisfied, skipping upgrade: python-dateutil>=2.6.1 in /usr/local/lib/python3.6/dist-packages (from pandas->pandas_montecarlo) (2.6.1)\n",
            "Requirement already satisfied, skipping upgrade: pyparsing!=2.0.4,!=2.1.2,!=2.1.6,>=2.0.1 in /usr/local/lib/python3.6/dist-packages (from matplotlib->pandas_montecarlo) (2.4.6)\n",
            "Requirement already satisfied, skipping upgrade: kiwisolver>=1.0.1 in /usr/local/lib/python3.6/dist-packages (from matplotlib->pandas_montecarlo) (1.1.0)\n",
            "Requirement already satisfied, skipping upgrade: cycler>=0.10 in /usr/local/lib/python3.6/dist-packages (from matplotlib->pandas_montecarlo) (0.10.0)\n",
            "Requirement already satisfied, skipping upgrade: six>=1.5 in /usr/local/lib/python3.6/dist-packages (from python-dateutil>=2.6.1->pandas->pandas_montecarlo) (1.12.0)\n",
            "Requirement already satisfied, skipping upgrade: setuptools in /usr/local/lib/python3.6/dist-packages (from kiwisolver>=1.0.1->matplotlib->pandas_montecarlo) (42.0.2)\n",
            "Building wheels for collected packages: pandas-montecarlo\n",
            "  Building wheel for pandas-montecarlo (setup.py) ... \u001b[?25l\u001b[?25hdone\n",
            "  Created wheel for pandas-montecarlo: filename=pandas_montecarlo-0.0.2-cp36-none-any.whl size=7553 sha256=af8d39b160117b73e6d475a62ef794c73539cc2ff80bae91471449f061a614db\n",
            "  Stored in directory: /tmp/pip-ephem-wheel-cache-s5m91jgq/wheels/8c/29/44/622bf8ea542ec73a0901a765b9102dd49f9e1076be3efc5411\n",
            "Successfully built pandas-montecarlo\n",
            "Installing collected packages: pandas-montecarlo\n",
            "Successfully installed pandas-montecarlo-0.0.2\n"
          ],
          "name": "stdout"
        }
      ]
    },
    {
      "cell_type": "code",
      "metadata": {
        "id": "eG5s9KcINI-9",
        "colab_type": "code",
        "colab": {}
      },
      "source": [
        "import pandas_montecarlo"
      ],
      "execution_count": 0,
      "outputs": []
    },
    {
      "cell_type": "markdown",
      "metadata": {
        "id": "OEt_NfS8yhN8",
        "colab_type": "text"
      },
      "source": [
        "IMPORTAZIONE DEI DATASET"
      ]
    },
    {
      "cell_type": "code",
      "metadata": {
        "id": "OrulkPuHMomk",
        "colab_type": "code",
        "colab": {}
      },
      "source": [
        "URL ='/content/drive/My Drive/flights.csv' \n",
        "#URL =\"flights.csv\"\n",
        "airline_url = \"/content/drive/My Drive/airlines.csv\"\n",
        "#airline_url = \"airlines.csv\"\n",
        "airports_url = \"/content/drive/My Drive/airports.csv\"\n",
        "#airports_url =\"airports.csv\""
      ],
      "execution_count": 0,
      "outputs": []
    },
    {
      "cell_type": "code",
      "metadata": {
        "id": "BmDm_D-pMrBL",
        "colab_type": "code",
        "outputId": "7a94a3fd-9169-4ea3-d38f-12d9d7874475",
        "colab": {
          "base_uri": "https://localhost:8080/",
          "height": 72
        }
      },
      "source": [
        "# load the dataset\n",
        "df = pd.read_csv(URL, sep = \",\") \n",
        "airlines_names = pd.read_csv(airline_url, sep = \",\")\n",
        "airports = pd.read_csv(airports_url, sep = \",\")"
      ],
      "execution_count": 6,
      "outputs": [
        {
          "output_type": "stream",
          "text": [
            "/usr/local/lib/python3.6/dist-packages/IPython/core/interactiveshell.py:2718: DtypeWarning: Columns (7,8) have mixed types. Specify dtype option on import or set low_memory=False.\n",
            "  interactivity=interactivity, compiler=compiler, result=result)\n"
          ],
          "name": "stderr"
        }
      ]
    },
    {
      "cell_type": "markdown",
      "metadata": {
        "id": "oXeugtbyVfZd",
        "colab_type": "text"
      },
      "source": [
        "PREPROCESSING"
      ]
    },
    {
      "cell_type": "code",
      "metadata": {
        "id": "BGIeUJOjNSlw",
        "colab_type": "code",
        "colab": {}
      },
      "source": [
        "df['flight_route'] = list(zip(df.ORIGIN_AIRPORT, df.DESTINATION_AIRPORT ))      # Uniamo in una lista le Origini e le Destinazioni per ottenere le singole Route\n",
        "df = df[df['ORIGIN_AIRPORT'].fillna(0).str.contains(r'^[a-zA-Z]+$', na=False)]  # Nella colonna Origin Airport abbiamo eliminato quei valori numerici in quanto non rappresentanti nessuna origine, in quanto dubbia natura\n",
        "list_flight = list(set(df['flight_route']))                                     # list_flight avrà tutte le rotte inserite in una lista di tuple"
      ],
      "execution_count": 0,
      "outputs": []
    },
    {
      "cell_type": "code",
      "metadata": {
        "id": "ZfZSWGQLN8VW",
        "colab_type": "code",
        "colab": {}
      },
      "source": [
        "df['flight_route'] = df['flight_route'].astype(str)                             # converte tutte le flight_route a tipo Stringa, avremo una Serie                                                      "
      ],
      "execution_count": 0,
      "outputs": []
    },
    {
      "cell_type": "code",
      "metadata": {
        "id": "GxSyGUXmN4jJ",
        "colab_type": "code",
        "colab": {}
      },
      "source": [
        "df['DATE'] = pd.to_datetime(df[['YEAR','MONTH', 'DAY']])                        # Vengono unite in un'unica colonna DATE le colonne YEAR,MONTH E DAY"
      ],
      "execution_count": 0,
      "outputs": []
    },
    {
      "cell_type": "code",
      "metadata": {
        "id": "YLTDSbAJOEUd",
        "colab_type": "code",
        "colab": {}
      },
      "source": [
        "X = df.groupby(['flight_route']).ARRIVAL_DELAY.apply(lambda x: pd.Series([(x < 0).sum(), (x >= 0).sum()])).unstack()    # Raggruppiamo per Flight_Route e controlliamo che le rotte siano in Orario(0) o in Ritardo(1)"
      ],
      "execution_count": 0,
      "outputs": []
    },
    {
      "cell_type": "code",
      "metadata": {
        "id": "oYR2u5AzOFCu",
        "colab_type": "code",
        "colab": {}
      },
      "source": [
        "number_delay_airport = X\n",
        "number_delay_airport.rename(columns = {0: 'Number_on_time', 1 :'Number_delay'}, inplace= True)\n",
        "number_delay_airport['Percentage_delay'] = number_delay_airport['Number_delay'] / (number_delay_airport['Number_delay'] + number_delay_airport['Number_on_time'])    # Calcoliamo la percentuale di ritardi \n",
        "number_delay_airport.reset_index(inplace=True)"
      ],
      "execution_count": 0,
      "outputs": []
    },
    {
      "cell_type": "markdown",
      "metadata": {
        "id": "kbFSn2hTPPYM",
        "colab_type": "text"
      },
      "source": [
        "Aggiungiamo la distanza associata al Flight_Route"
      ]
    },
    {
      "cell_type": "code",
      "metadata": {
        "id": "YuKlW7DNS6BU",
        "colab_type": "code",
        "colab": {}
      },
      "source": [
        "df_reducted = df[['flight_route','DISTANCE']]         # Aggiungiamo la colonna DISTANCE al nostro DataFrame\n",
        "number_delay_airport = pd.merge(number_delay_airport,df_reducted, how='inner', right_on='flight_route', left_on='flight_route' )    # Facciamo Inner Join su flight_route e prendiamo la Colonna Distance\n",
        "number_delay_airport.drop_duplicates(subset= ['flight_route', 'Percentage_delay'], inplace=True)   # droppiamo i valori dupplicati\n",
        "number_delay_airport.reset_index(inplace=True, drop = True)  # Resettiamo l'indice"
      ],
      "execution_count": 0,
      "outputs": []
    },
    {
      "cell_type": "markdown",
      "metadata": {
        "id": "naf1bYykWi38",
        "colab_type": "text"
      },
      "source": [
        "Standardizzare percentuale ritardo e distanza"
      ]
    },
    {
      "cell_type": "code",
      "metadata": {
        "id": "_fVy6CwuWnkO",
        "colab_type": "code",
        "outputId": "c48dc840-0010-45ac-cfc9-432115720a84",
        "colab": {
          "base_uri": "https://localhost:8080/",
          "height": 109
        }
      },
      "source": [
        "number_delay_airport.head(2)"
      ],
      "execution_count": 13,
      "outputs": [
        {
          "output_type": "execute_result",
          "data": {
            "text/html": [
              "<div>\n",
              "<style scoped>\n",
              "    .dataframe tbody tr th:only-of-type {\n",
              "        vertical-align: middle;\n",
              "    }\n",
              "\n",
              "    .dataframe tbody tr th {\n",
              "        vertical-align: top;\n",
              "    }\n",
              "\n",
              "    .dataframe thead th {\n",
              "        text-align: right;\n",
              "    }\n",
              "</style>\n",
              "<table border=\"1\" class=\"dataframe\">\n",
              "  <thead>\n",
              "    <tr style=\"text-align: right;\">\n",
              "      <th></th>\n",
              "      <th>flight_route</th>\n",
              "      <th>Number_on_time</th>\n",
              "      <th>Number_delay</th>\n",
              "      <th>Percentage_delay</th>\n",
              "      <th>DISTANCE</th>\n",
              "    </tr>\n",
              "  </thead>\n",
              "  <tbody>\n",
              "    <tr>\n",
              "      <th>0</th>\n",
              "      <td>('ABE', 'ATL')</td>\n",
              "      <td>572</td>\n",
              "      <td>314</td>\n",
              "      <td>0.354402</td>\n",
              "      <td>692</td>\n",
              "    </tr>\n",
              "    <tr>\n",
              "      <th>1</th>\n",
              "      <td>('ABE', 'DTW')</td>\n",
              "      <td>411</td>\n",
              "      <td>284</td>\n",
              "      <td>0.408633</td>\n",
              "      <td>425</td>\n",
              "    </tr>\n",
              "  </tbody>\n",
              "</table>\n",
              "</div>"
            ],
            "text/plain": [
              "     flight_route  Number_on_time  Number_delay  Percentage_delay  DISTANCE\n",
              "0  ('ABE', 'ATL')             572           314          0.354402       692\n",
              "1  ('ABE', 'DTW')             411           284          0.408633       425"
            ]
          },
          "metadata": {
            "tags": []
          },
          "execution_count": 13
        }
      ]
    },
    {
      "cell_type": "markdown",
      "metadata": {
        "id": "Ua8inP6n566k",
        "colab_type": "text"
      },
      "source": [
        "ABBIAMO STANDARDIZZATO I VALORI DISTANCE E LA PERCENTUALE DEI RITARDI, RISPETTO AI VALORI MINIMI E MASSIMI.\n"
      ]
    },
    {
      "cell_type": "code",
      "metadata": {
        "id": "MMkZ0FtGeuTA",
        "colab_type": "code",
        "colab": {}
      },
      "source": [
        "def standardizer(df):\n",
        "  x = []\n",
        "  for Percentage_delay, DISTANCE in zip(df.Percentage_delay, df.DISTANCE):\n",
        "    to_append = list([Percentage_delay])\n",
        "    to_append.extend([DISTANCE])\n",
        "    x.append(to_append)\n",
        "    min_val_Percentage_delay = df['Percentage_delay'].min()\n",
        "    max_val_Percentage_delay = df['Percentage_delay'].max()\n",
        "    min_val_DISTANCE = df['DISTANCE'].min()\n",
        "    max_val_DISTANCE = df['DISTANCE'].max()\n",
        "\n",
        "    func = lambda x, min_x, max_x: (x - min_x) / (max_x - min_x)\n",
        "\n",
        "    # restituisce lista standardizzata dove il primo è delay il secondo è DISTANCE\n",
        "    x_2 = [[func(var1, min_val_Percentage_delay, max_val_Percentage_delay), func(var2, min_val_DISTANCE, max_val_DISTANCE)] for var1, var2 in x ]\n",
        "    df_to_attach = pd.DataFrame.from_records(x_2)\n",
        "    df_to_attach.rename(columns = {0: 'Percentage_delay_std', 1 :'DISTANCE_std'}, inplace= True) # cambia nome colonne\n",
        "    df.reset_index(inplace=True, drop=True)\n",
        "    df_to_attach.reset_index(inplace=True, drop=True)\n",
        "\n",
        "    number_delay_airport = pd.concat([df, df_to_attach], axis=1) # concatena i due df\n",
        "\n",
        "    number_delay_airport.loc[:, 'Percentage_delay_std'] = 1-number_delay_airport.loc[:, 'Percentage_delay_std'] \n",
        "    number_delay_airport.loc[:, 'DISTANCE_std'] = 1- number_delay_airport.loc[:, 'DISTANCE_std'] \n",
        "\n",
        "  return number_delay_airport\n",
        "\n"
      ],
      "execution_count": 0,
      "outputs": []
    },
    {
      "cell_type": "code",
      "metadata": {
        "id": "4joZyIKdaI62",
        "colab_type": "code",
        "colab": {}
      },
      "source": [
        "number_delay_airport = standardizer(number_delay_airport)"
      ],
      "execution_count": 0,
      "outputs": []
    },
    {
      "cell_type": "markdown",
      "metadata": {
        "id": "iL1iU9mwfCYZ",
        "colab_type": "text"
      },
      "source": [
        "Fine del **PREPROCESSING**\n"
      ]
    },
    {
      "cell_type": "markdown",
      "metadata": {
        "id": "lUpTWy2Oic9p",
        "colab_type": "text"
      },
      "source": [
        "Usare Dijkstra per scegliere i percorsi possibili (individui)"
      ]
    },
    {
      "cell_type": "code",
      "metadata": {
        "id": "gQnwfgJ5muIx",
        "colab_type": "code",
        "colab": {}
      },
      "source": [
        "flights = df   "
      ],
      "execution_count": 0,
      "outputs": []
    },
    {
      "cell_type": "code",
      "metadata": {
        "id": "o7LZ8od4mDPv",
        "colab_type": "code",
        "colab": {}
      },
      "source": [
        "flights= flights.drop(columns = ['YEAR', 'MONTH', 'DAY'])  # eliminiamo le colonne YEAR,MONTH E DAY"
      ],
      "execution_count": 0,
      "outputs": []
    },
    {
      "cell_type": "markdown",
      "metadata": {
        "id": "M3zhQfQV9XgC",
        "colab_type": "text"
      },
      "source": [
        "CREIAMO NODI E ARCHI PER IL GRAFO RELATIVO ALLE ROUTE"
      ]
    },
    {
      "cell_type": "code",
      "metadata": {
        "id": "BxEoJl16mPO2",
        "colab_type": "code",
        "outputId": "7ebcdbf3-829d-4546-bf6b-eb3226e9bb62",
        "colab": {
          "base_uri": "https://localhost:8080/",
          "height": 248
        }
      },
      "source": [
        "FG = nx.from_pandas_edgelist(flights, source='ORIGIN_AIRPORT', target='DESTINATION_AIRPORT', edge_attr=True,)   \n",
        "FG.nodes()\n",
        "FG.edges()\n",
        "nx.draw_networkx(FG, with_labels=True,node_size=50, node_color='y') # Vista rapida del grafico"
      ],
      "execution_count": 18,
      "outputs": [
        {
          "output_type": "display_data",
          "data": {
            "image/png": "[encoded data removed]",
            "text/plain": [
              "<Figure size 432x288 with 1 Axes>"
            ]
          },
          "metadata": {
            "tags": []
          }
        }
      ]
    },
    {
      "cell_type": "markdown",
      "metadata": {
        "id": "qLjUJniO5SSC",
        "colab_type": "text"
      },
      "source": [
        "ORA TROVIAMO TUTTI I PERCORSI DISPONIBILI.\n",
        "\n",
        "IN SOURCE METTEREMO UNA PARTENZA, IN TARGET UNA DESTINAZIONE.\n",
        "\n",
        "CUTOFF: è IL NUMERO DI TRATTE MASSIME CHE VOGLIAMO RAPPRESENTARE."
      ]
    },
    {
      "cell_type": "code",
      "metadata": {
        "id": "8t7XkmBHmUS1",
        "colab_type": "code",
        "colab": {}
      },
      "source": [
        "list_path = []\n",
        "for path in nx.all_simple_paths(FG, source='GUM', target='CLD', cutoff=4):\n",
        "    list_path.append(path)"
      ],
      "execution_count": 0,
      "outputs": []
    },
    {
      "cell_type": "markdown",
      "metadata": {
        "id": "yqOoT5iT_HgZ",
        "colab_type": "text"
      },
      "source": [
        "DOPO AVER CREATO TUTTI I PERCORSI,LI INSERIAMO IN UNA COLONNA DEL DATAFRAME 'List_Path' LA COLONNA 'PATH'\n",
        "\n"
      ]
    },
    {
      "cell_type": "code",
      "metadata": {
        "id": "tPvu-Qmrsj7I",
        "colab_type": "code",
        "colab": {}
      },
      "source": [
        "list_path = pd.DataFrame({'Path': list_path})"
      ],
      "execution_count": 0,
      "outputs": []
    },
    {
      "cell_type": "markdown",
      "metadata": {
        "id": "-MnBeNPRBQXA",
        "colab_type": "text"
      },
      "source": [
        "CREIAMO TUTTI I POSSIBILI PERCORSI DALLA PARTENZA ALLA DESTINAZIONE SCELTE"
      ]
    },
    {
      "cell_type": "code",
      "metadata": {
        "id": "WsHEOAtPA291",
        "colab_type": "code",
        "colab": {}
      },
      "source": [
        "def route_creator(df,column):\n",
        "\n",
        "  series = df[str(column)]\n",
        "  \n",
        "  couples = lambda ls: [(x,y) for x,y in zip(ls[:-1], ls[1:])]\n",
        "  \n",
        "  df['individuals'] = series.apply(couples)\n",
        "  \n",
        "  return df"
      ],
      "execution_count": 0,
      "outputs": []
    },
    {
      "cell_type": "markdown",
      "metadata": {
        "id": "PnhFtx4TBum_",
        "colab_type": "text"
      },
      "source": [
        "LA COLONNA 'INDIVIDUALS' VIENE AGGIUNTA AL DATAFRAME 'List_Path'"
      ]
    },
    {
      "cell_type": "code",
      "metadata": {
        "id": "tkkUd_HfBit2",
        "colab_type": "code",
        "colab": {}
      },
      "source": [
        "list_path = route_creator(list_path, 'Path')"
      ],
      "execution_count": 0,
      "outputs": []
    },
    {
      "cell_type": "markdown",
      "metadata": {
        "id": "CzjGHMZpNi7w",
        "colab_type": "text"
      },
      "source": [
        "ADESSO AGGIUNGIAMO AL DATAFRAME UNA COLONNA CON UNA LISTA DELLE DISTANZE, DOVE OGNI DISTANZA CORRISPONDE POSIZIONALMENTE A FLIGHT_ROUTE E POI FACCIAMO LA STESSA COSA CON I RITARDI"
      ]
    },
    {
      "cell_type": "code",
      "metadata": {
        "id": "r7k2aA4T9E8l",
        "colab_type": "code",
        "colab": {}
      },
      "source": [
        "number_delay_airport[\"Percentage_delay_std\"] = number_delay_airport[\"Percentage_delay_std\"].fillna(0)"
      ],
      "execution_count": 0,
      "outputs": []
    },
    {
      "cell_type": "markdown",
      "metadata": {
        "id": "7EXnZQSxCXc3",
        "colab_type": "text"
      },
      "source": [
        "CREIAMO LA FUNZIONE LIST_DELAY_CREATOR E LIST_DISTANCE_CREATOR E CALCOLIAMO LA PERCENTUALE DEI RITARDI STANDARDIZZATI E LA DISTANZA STANDARDIZZATA SU TUTTE LE ROTTE"
      ]
    },
    {
      "cell_type": "code",
      "metadata": {
        "id": "ofoxVOW4OVGw",
        "colab_type": "code",
        "colab": {}
      },
      "source": [
        "def list_delay_creator(df):\n",
        "  external_list = []\n",
        "  for ind in df[\"individuals\"]: #per ogni riga della colonna dove ci stanno gli individui della nostra popolazione\n",
        "    inner_list = []\n",
        "\n",
        "    for route in ind: # per ogni valore dentro ogni individuo\n",
        "      for flight_route in number_delay_airport['flight_route']:\n",
        "        \n",
        "        if str(flight_route)==str(route):\n",
        "           corresponding_perc = number_delay_airport.loc[number_delay_airport['flight_route'] == flight_route, 'Percentage_delay_std'].iloc[0]\n",
        "           inner_list.append(corresponding_perc)\n",
        "    external_list.append(inner_list)\n",
        "  \n",
        "  return external_list"
      ],
      "execution_count": 0,
      "outputs": []
    },
    {
      "cell_type": "code",
      "metadata": {
        "id": "YjnrhR1RhLKc",
        "colab_type": "code",
        "colab": {}
      },
      "source": [
        "def list_distance_creator(df):\n",
        "  external_list = []\n",
        "  for ind in df[\"individuals\"]: #per ogni riga della colonna dove ci stanno gli individui della nostra popolazione\n",
        "    inner_list = []\n",
        "\n",
        "    for route in ind: # per ogni valore dentro ogni individuo\n",
        "      for flight_route in number_delay_airport['flight_route']:\n",
        "        \n",
        "        if str(flight_route)==str(route):\n",
        "           corresponding_perc = number_delay_airport.loc[number_delay_airport['flight_route'] == flight_route, 'DISTANCE_std'].iloc[0]\n",
        "           inner_list.append(corresponding_perc)\n",
        "    external_list.append(inner_list)\n",
        "  \n",
        "  return external_list"
      ],
      "execution_count": 0,
      "outputs": []
    },
    {
      "cell_type": "markdown",
      "metadata": {
        "id": "r6HPrxqZO5S5",
        "colab_type": "text"
      },
      "source": [
        "DOPO AVER CALCOLATO I RITARDI STANDARDIZZATI E LE DISTANZE STANDARDIZZATE LE INSERIAMO NEL DATAFRAME"
      ]
    },
    {
      "cell_type": "code",
      "metadata": {
        "id": "8XDOE0tUcEkR",
        "colab_type": "code",
        "colab": {}
      },
      "source": [
        "#creo df di delay std e lo aggiungo a list_path\n",
        "def Path_delay_std(df):\n",
        "  list_with_delay_for_each_individual = list_delay_creator(df)\n",
        "  df_with_delay_for_each_individual = pd.DataFrame({'Path_delay_std': list_with_delay_for_each_individual})\n",
        "  df = pd.concat([df, df_with_delay_for_each_individual], axis = 1)\n",
        "  df.reset_index(drop=True, inplace=True)\n",
        "  return df"
      ],
      "execution_count": 0,
      "outputs": []
    },
    {
      "cell_type": "code",
      "metadata": {
        "id": "Iz-i1WXAK-8z",
        "colab_type": "code",
        "outputId": "01f8f380-bdb5-4a97-9407-8ab8332fc7c2",
        "colab": {
          "base_uri": "https://localhost:8080/",
          "height": 200
        }
      },
      "source": [
        "list_path = Path_delay_std(list_path)\n",
        "list_path.head()"
      ],
      "execution_count": 27,
      "outputs": [
        {
          "output_type": "execute_result",
          "data": {
            "text/html": [
              "<div>\n",
              "<style scoped>\n",
              "    .dataframe tbody tr th:only-of-type {\n",
              "        vertical-align: middle;\n",
              "    }\n",
              "\n",
              "    .dataframe tbody tr th {\n",
              "        vertical-align: top;\n",
              "    }\n",
              "\n",
              "    .dataframe thead th {\n",
              "        text-align: right;\n",
              "    }\n",
              "</style>\n",
              "<table border=\"1\" class=\"dataframe\">\n",
              "  <thead>\n",
              "    <tr style=\"text-align: right;\">\n",
              "      <th></th>\n",
              "      <th>Path</th>\n",
              "      <th>individuals</th>\n",
              "      <th>Path_delay_std</th>\n",
              "    </tr>\n",
              "  </thead>\n",
              "  <tbody>\n",
              "    <tr>\n",
              "      <th>0</th>\n",
              "      <td>[GUM, HNL, LAS, LAX, CLD]</td>\n",
              "      <td>[(GUM, HNL), (HNL, LAS), (LAS, LAX), (LAX, CLD)]</td>\n",
              "      <td>[0.5679758308157099, 0.626387176325524, 0.4609...</td>\n",
              "    </tr>\n",
              "    <tr>\n",
              "      <th>1</th>\n",
              "      <td>[GUM, HNL, ITO, LAX, CLD]</td>\n",
              "      <td>[(GUM, HNL), (HNL, ITO), (ITO, LAX), (LAX, CLD)]</td>\n",
              "      <td>[0.5679758308157099, 0.5516088591725867, 0.691...</td>\n",
              "    </tr>\n",
              "    <tr>\n",
              "      <th>2</th>\n",
              "      <td>[GUM, HNL, KOA, LAX, CLD]</td>\n",
              "      <td>[(GUM, HNL), (HNL, KOA), (KOA, LAX), (LAX, CLD)]</td>\n",
              "      <td>[0.5679758308157099, 0.5968020065841041, 0.669...</td>\n",
              "    </tr>\n",
              "    <tr>\n",
              "      <th>3</th>\n",
              "      <td>[GUM, HNL, OGG, LAX, CLD]</td>\n",
              "      <td>[(GUM, HNL), (HNL, OGG), (OGG, LAX), (LAX, CLD)]</td>\n",
              "      <td>[0.5679758308157099, 0.5543293718166384, 0.657...</td>\n",
              "    </tr>\n",
              "    <tr>\n",
              "      <th>4</th>\n",
              "      <td>[GUM, HNL, LIH, LAX, CLD]</td>\n",
              "      <td>[(GUM, HNL), (HNL, LIH), (LIH, LAX), (LAX, CLD)]</td>\n",
              "      <td>[0.5679758308157099, 0.5993162393162393, 0.742...</td>\n",
              "    </tr>\n",
              "  </tbody>\n",
              "</table>\n",
              "</div>"
            ],
            "text/plain": [
              "                        Path  ...                                     Path_delay_std\n",
              "0  [GUM, HNL, LAS, LAX, CLD]  ...  [0.5679758308157099, 0.626387176325524, 0.4609...\n",
              "1  [GUM, HNL, ITO, LAX, CLD]  ...  [0.5679758308157099, 0.5516088591725867, 0.691...\n",
              "2  [GUM, HNL, KOA, LAX, CLD]  ...  [0.5679758308157099, 0.5968020065841041, 0.669...\n",
              "3  [GUM, HNL, OGG, LAX, CLD]  ...  [0.5679758308157099, 0.5543293718166384, 0.657...\n",
              "4  [GUM, HNL, LIH, LAX, CLD]  ...  [0.5679758308157099, 0.5993162393162393, 0.742...\n",
              "\n",
              "[5 rows x 3 columns]"
            ]
          },
          "metadata": {
            "tags": []
          },
          "execution_count": 27
        }
      ]
    },
    {
      "cell_type": "code",
      "metadata": {
        "id": "RuTa_B1MceYw",
        "colab_type": "code",
        "colab": {}
      },
      "source": [
        "#creo df di distance std e lo aggiungo a list_path\n",
        "def Path_distance_std(df):\n",
        "  list_with_distance_for_each_individual = list_distance_creator(df)\n",
        "  df_with_distance_for_each_individual = pd.DataFrame({'Path_distance_std': list_with_distance_for_each_individual})\n",
        "  df = pd.concat([df, df_with_distance_for_each_individual], axis = 1)\n",
        "  df.reset_index(drop=True, inplace=True)\n",
        "  return df"
      ],
      "execution_count": 0,
      "outputs": []
    },
    {
      "cell_type": "code",
      "metadata": {
        "id": "LxwntMP7Gxmo",
        "colab_type": "code",
        "outputId": "3f931416-b6db-44d4-cb0f-04b737f69f3b",
        "colab": {
          "base_uri": "https://localhost:8080/",
          "height": 200
        }
      },
      "source": [
        "list_path = Path_distance_std(list_path)\n",
        "list_path.head()"
      ],
      "execution_count": 29,
      "outputs": [
        {
          "output_type": "execute_result",
          "data": {
            "text/html": [
              "<div>\n",
              "<style scoped>\n",
              "    .dataframe tbody tr th:only-of-type {\n",
              "        vertical-align: middle;\n",
              "    }\n",
              "\n",
              "    .dataframe tbody tr th {\n",
              "        vertical-align: top;\n",
              "    }\n",
              "\n",
              "    .dataframe thead th {\n",
              "        text-align: right;\n",
              "    }\n",
              "</style>\n",
              "<table border=\"1\" class=\"dataframe\">\n",
              "  <thead>\n",
              "    <tr style=\"text-align: right;\">\n",
              "      <th></th>\n",
              "      <th>Path</th>\n",
              "      <th>individuals</th>\n",
              "      <th>Path_delay_std</th>\n",
              "      <th>Path_distance_std</th>\n",
              "    </tr>\n",
              "  </thead>\n",
              "  <tbody>\n",
              "    <tr>\n",
              "      <th>0</th>\n",
              "      <td>[GUM, HNL, LAS, LAX, CLD]</td>\n",
              "      <td>[(GUM, HNL), (HNL, LAS), (LAS, LAX), (LAX, CLD)]</td>\n",
              "      <td>[0.5679758308157099, 0.626387176325524, 0.4609...</td>\n",
              "      <td>[0.23821039903264818, 0.4476017734784361, 0.95...</td>\n",
              "    </tr>\n",
              "    <tr>\n",
              "      <th>1</th>\n",
              "      <td>[GUM, HNL, ITO, LAX, CLD]</td>\n",
              "      <td>[(GUM, HNL), (HNL, ITO), (ITO, LAX), (LAX, CLD)]</td>\n",
              "      <td>[0.5679758308157099, 0.5516088591725867, 0.691...</td>\n",
              "      <td>[0.23821039903264818, 0.9607013301088271, 0.51...</td>\n",
              "    </tr>\n",
              "    <tr>\n",
              "      <th>2</th>\n",
              "      <td>[GUM, HNL, KOA, LAX, CLD]</td>\n",
              "      <td>[(GUM, HNL), (HNL, KOA), (KOA, LAX), (LAX, CLD)]</td>\n",
              "      <td>[0.5679758308157099, 0.5968020065841041, 0.669...</td>\n",
              "      <td>[0.23821039903264818, 0.9713825070536074, 0.49...</td>\n",
              "    </tr>\n",
              "    <tr>\n",
              "      <th>3</th>\n",
              "      <td>[GUM, HNL, OGG, LAX, CLD]</td>\n",
              "      <td>[(GUM, HNL), (HNL, OGG), (OGG, LAX), (LAX, CLD)]</td>\n",
              "      <td>[0.5679758308157099, 0.5543293718166384, 0.657...</td>\n",
              "      <td>[0.23821039903264818, 0.9840790004030633, 0.50...</td>\n",
              "    </tr>\n",
              "    <tr>\n",
              "      <th>4</th>\n",
              "      <td>[GUM, HNL, LIH, LAX, CLD]</td>\n",
              "      <td>[(GUM, HNL), (HNL, LIH), (LIH, LAX), (LAX, CLD)]</td>\n",
              "      <td>[0.5679758308157099, 0.5993162393162393, 0.742...</td>\n",
              "      <td>[0.23821039903264818, 0.9836759371221282, 0.47...</td>\n",
              "    </tr>\n",
              "  </tbody>\n",
              "</table>\n",
              "</div>"
            ],
            "text/plain": [
              "                        Path  ...                                  Path_distance_std\n",
              "0  [GUM, HNL, LAS, LAX, CLD]  ...  [0.23821039903264818, 0.4476017734784361, 0.95...\n",
              "1  [GUM, HNL, ITO, LAX, CLD]  ...  [0.23821039903264818, 0.9607013301088271, 0.51...\n",
              "2  [GUM, HNL, KOA, LAX, CLD]  ...  [0.23821039903264818, 0.9713825070536074, 0.49...\n",
              "3  [GUM, HNL, OGG, LAX, CLD]  ...  [0.23821039903264818, 0.9840790004030633, 0.50...\n",
              "4  [GUM, HNL, LIH, LAX, CLD]  ...  [0.23821039903264818, 0.9836759371221282, 0.47...\n",
              "\n",
              "[5 rows x 4 columns]"
            ]
          },
          "metadata": {
            "tags": []
          },
          "execution_count": 29
        }
      ]
    },
    {
      "cell_type": "markdown",
      "metadata": {
        "id": "Dal0GIslEIV5",
        "colab_type": "text"
      },
      "source": [
        "UTILIZZANDO MONTECARLO SIMULIAMO LA DISTRIBUZIONE DEI RITARDI CON N ITERAZIONI PER RICAVARNE LA DEVIAZIONE STANDARD E INSERIAMO QUESTI VALORI NELLA COLONNA 'DELAY_SERIES'"
      ]
    },
    {
      "cell_type": "code",
      "metadata": {
        "id": "5jyn7DAcAVSt",
        "colab_type": "code",
        "colab": {}
      },
      "source": [
        "def Delay_creator_with_MonteCarlo(df,column):\n",
        "  delay_serie = pd.Series()\n",
        "  for delay_of_ind in df[str(column)]:\n",
        "    delay_of_ind_2 = pd.Series(delay_of_ind) # trasforma riga in serie\n",
        "    delay_of_ind_3 = delay_of_ind_2.transpose() # serie in colonna \n",
        "    mc = delay_of_ind_3.montecarlo(sims=1000)    # .montecarlo è una libreria Python\n",
        "    stats = mc.stats\n",
        "    stats_std = stats['max'] #prendo il massimo dei ritardi\n",
        "    stats_std = pd.Series([stats_std]) #lo metto in una serie di lista per motivi computazionali\n",
        "    delay_serie = delay_serie.append(stats_std,ignore_index=True)\n",
        "    delay_df = pd.DataFrame(delay_serie)\n",
        "    delay_df = delay_df.rename(columns={0: \"Delay_Series\"}) \n",
        "    df1 = pd.concat([df, delay_df], axis=1) \n",
        "  return df1"
      ],
      "execution_count": 0,
      "outputs": []
    },
    {
      "cell_type": "code",
      "metadata": {
        "id": "JcsU-iKLQhbd",
        "colab_type": "code",
        "outputId": "a482ee35-0228-4922-c594-a3f9f67e11c5",
        "colab": {
          "base_uri": "https://localhost:8080/",
          "height": 1000
        }
      },
      "source": [
        "list_path = Delay_creator_with_MonteCarlo(list_path,'Path_delay_std')\n",
        "list_path"
      ],
      "execution_count": 31,
      "outputs": [
        {
          "output_type": "execute_result",
          "data": {
            "text/html": [
              "<div>\n",
              "<style scoped>\n",
              "    .dataframe tbody tr th:only-of-type {\n",
              "        vertical-align: middle;\n",
              "    }\n",
              "\n",
              "    .dataframe tbody tr th {\n",
              "        vertical-align: top;\n",
              "    }\n",
              "\n",
              "    .dataframe thead th {\n",
              "        text-align: right;\n",
              "    }\n",
              "</style>\n",
              "<table border=\"1\" class=\"dataframe\">\n",
              "  <thead>\n",
              "    <tr style=\"text-align: right;\">\n",
              "      <th></th>\n",
              "      <th>Path</th>\n",
              "      <th>individuals</th>\n",
              "      <th>Path_delay_std</th>\n",
              "      <th>Path_distance_std</th>\n",
              "      <th>Delay_Series</th>\n",
              "    </tr>\n",
              "  </thead>\n",
              "  <tbody>\n",
              "    <tr>\n",
              "      <th>0</th>\n",
              "      <td>[GUM, HNL, LAS, LAX, CLD]</td>\n",
              "      <td>[(GUM, HNL), (HNL, LAS), (LAS, LAX), (LAX, CLD)]</td>\n",
              "      <td>[0.5679758308157099, 0.626387176325524, 0.4609...</td>\n",
              "      <td>[0.23821039903264818, 0.4476017734784361, 0.95...</td>\n",
              "      <td>2.291134</td>\n",
              "    </tr>\n",
              "    <tr>\n",
              "      <th>1</th>\n",
              "      <td>[GUM, HNL, ITO, LAX, CLD]</td>\n",
              "      <td>[(GUM, HNL), (HNL, ITO), (ITO, LAX), (LAX, CLD)]</td>\n",
              "      <td>[0.5679758308157099, 0.5516088591725867, 0.691...</td>\n",
              "      <td>[0.23821039903264818, 0.9607013301088271, 0.51...</td>\n",
              "      <td>2.446774</td>\n",
              "    </tr>\n",
              "    <tr>\n",
              "      <th>2</th>\n",
              "      <td>[GUM, HNL, KOA, LAX, CLD]</td>\n",
              "      <td>[(GUM, HNL), (HNL, KOA), (KOA, LAX), (LAX, CLD)]</td>\n",
              "      <td>[0.5679758308157099, 0.5968020065841041, 0.669...</td>\n",
              "      <td>[0.23821039903264818, 0.9713825070536074, 0.49...</td>\n",
              "      <td>2.469910</td>\n",
              "    </tr>\n",
              "    <tr>\n",
              "      <th>3</th>\n",
              "      <td>[GUM, HNL, OGG, LAX, CLD]</td>\n",
              "      <td>[(GUM, HNL), (HNL, OGG), (OGG, LAX), (LAX, CLD)]</td>\n",
              "      <td>[0.5679758308157099, 0.5543293718166384, 0.657...</td>\n",
              "      <td>[0.23821039903264818, 0.9840790004030633, 0.50...</td>\n",
              "      <td>2.415433</td>\n",
              "    </tr>\n",
              "    <tr>\n",
              "      <th>4</th>\n",
              "      <td>[GUM, HNL, LIH, LAX, CLD]</td>\n",
              "      <td>[(GUM, HNL), (HNL, LIH), (LIH, LAX), (LAX, CLD)]</td>\n",
              "      <td>[0.5679758308157099, 0.5993162393162393, 0.742...</td>\n",
              "      <td>[0.23821039903264818, 0.9836759371221282, 0.47...</td>\n",
              "      <td>2.545688</td>\n",
              "    </tr>\n",
              "    <tr>\n",
              "      <th>5</th>\n",
              "      <td>[GUM, HNL, LAX, CLD]</td>\n",
              "      <td>[(GUM, HNL), (HNL, LAX), (LAX, CLD)]</td>\n",
              "      <td>[0.5679758308157099, 0.6834712334038868, 0.635...</td>\n",
              "      <td>[0.23821039903264818, 0.48911729141475213, 0.9...</td>\n",
              "      <td>1.887230</td>\n",
              "    </tr>\n",
              "    <tr>\n",
              "      <th>6</th>\n",
              "      <td>[GUM, HNL, PDX, LAX, CLD]</td>\n",
              "      <td>[(GUM, HNL), (HNL, PDX), (PDX, LAX), (LAX, CLD)]</td>\n",
              "      <td>[0.5679758308157099, 0.5918653576437587, 0.626...</td>\n",
              "      <td>[0.23821039903264818, 0.4796453043127771, 0.83...</td>\n",
              "      <td>2.422266</td>\n",
              "    </tr>\n",
              "    <tr>\n",
              "      <th>7</th>\n",
              "      <td>[GUM, HNL, SFO, LAX, CLD]</td>\n",
              "      <td>[(GUM, HNL), (HNL, SFO), (SFO, LAX), (LAX, CLD)]</td>\n",
              "      <td>[0.5679758308157099, 0.6486220472440944, 0.494...</td>\n",
              "      <td>[0.23821039903264818, 0.5209592906086256, 0.93...</td>\n",
              "      <td>2.346560</td>\n",
              "    </tr>\n",
              "    <tr>\n",
              "      <th>8</th>\n",
              "      <td>[GUM, HNL, PHX, LAX, CLD]</td>\n",
              "      <td>[(GUM, HNL), (HNL, PHX), (PHX, LAX), (LAX, CLD)]</td>\n",
              "      <td>[0.5679758308157099, 0.5901785714285714, 0.504...</td>\n",
              "      <td>[0.23821039903264818, 0.4163643692059653, 0.92...</td>\n",
              "      <td>2.298317</td>\n",
              "    </tr>\n",
              "    <tr>\n",
              "      <th>9</th>\n",
              "      <td>[GUM, HNL, SEA, LAX, CLD]</td>\n",
              "      <td>[(GUM, HNL), (HNL, SEA), (SEA, LAX), (LAX, CLD)]</td>\n",
              "      <td>[0.5679758308157099, 0.5755478662053056, 0.553...</td>\n",
              "      <td>[0.23821039903264818, 0.4647319629181782, 0.81...</td>\n",
              "      <td>2.332781</td>\n",
              "    </tr>\n",
              "    <tr>\n",
              "      <th>10</th>\n",
              "      <td>[GUM, HNL, JFK, LAX, CLD]</td>\n",
              "      <td>[(GUM, HNL), (HNL, JFK), (JFK, LAX), (LAX, CLD)]</td>\n",
              "      <td>[0.5679758308157099, 0.4872611464968153, 0.661...</td>\n",
              "      <td>[0.23821039903264818, 0.0, 0.5054413542926239,...</td>\n",
              "      <td>2.352203</td>\n",
              "    </tr>\n",
              "    <tr>\n",
              "      <th>11</th>\n",
              "      <td>[GUM, HNL, IAD, LAX, CLD]</td>\n",
              "      <td>[(GUM, HNL), (HNL, IAD), (IAD, LAX), (LAX, CLD)]</td>\n",
              "      <td>[0.5679758308157099, 0.6867469879518072, 0.620...</td>\n",
              "      <td>[0.23821039903264818, 0.0334542523176139, 0.54...</td>\n",
              "      <td>2.510567</td>\n",
              "    </tr>\n",
              "    <tr>\n",
              "      <th>12</th>\n",
              "      <td>[GUM, HNL, OAK, LAX, CLD]</td>\n",
              "      <td>[(GUM, HNL), (HNL, OAK), (OAK, LAX), (LAX, CLD)]</td>\n",
              "      <td>[0.5679758308157099, 0.6339113680154143, 0.407...</td>\n",
              "      <td>[0.23821039903264818, 0.5187424425634825, 0.93...</td>\n",
              "      <td>2.245567</td>\n",
              "    </tr>\n",
              "    <tr>\n",
              "      <th>13</th>\n",
              "      <td>[GUM, HNL, EWR, LAX, CLD]</td>\n",
              "      <td>[(GUM, HNL), (HNL, EWR), (EWR, LAX), (LAX, CLD)]</td>\n",
              "      <td>[0.5679758308157099, 0.7476635514018692, 0.580...</td>\n",
              "      <td>[0.23821039903264818, 0.004232164449818665, 0....</td>\n",
              "      <td>2.531519</td>\n",
              "    </tr>\n",
              "    <tr>\n",
              "      <th>14</th>\n",
              "      <td>[GUM, HNL, IAH, LAX, CLD]</td>\n",
              "      <td>[(GUM, HNL), (HNL, IAH), (IAH, LAX), (LAX, CLD)]</td>\n",
              "      <td>[0.5679758308157099, 0.5091463414634146, 0.420...</td>\n",
              "      <td>[0.23821039903264818, 0.21745264006449017, 0.7...</td>\n",
              "      <td>2.133826</td>\n",
              "    </tr>\n",
              "    <tr>\n",
              "      <th>15</th>\n",
              "      <td>[GUM, HNL, SMF, LAX, CLD]</td>\n",
              "      <td>[(GUM, HNL), (HNL, SMF), (SMF, LAX), (LAX, CLD)]</td>\n",
              "      <td>[0.5679758308157099, 0.4186746987951807, 0.450...</td>\n",
              "      <td>[0.23821039903264818, 0.5080612656187021, 0.92...</td>\n",
              "      <td>2.072889</td>\n",
              "    </tr>\n",
              "    <tr>\n",
              "      <th>16</th>\n",
              "      <td>[GUM, HNL, SJC, LAX, CLD]</td>\n",
              "      <td>[(GUM, HNL), (HNL, SJC), (SJC, LAX), (LAX, CLD)]</td>\n",
              "      <td>[0.5679758308157099, 0.5595667870036101, 0.407...</td>\n",
              "      <td>[0.23821039903264818, 0.517130189439742, 0.942...</td>\n",
              "      <td>2.171301</td>\n",
              "    </tr>\n",
              "    <tr>\n",
              "      <th>17</th>\n",
              "      <td>[GUM, HNL, ORD, LAX, CLD]</td>\n",
              "      <td>[(GUM, HNL), (HNL, ORD), (ORD, LAX), (LAX, CLD)]</td>\n",
              "      <td>[0.5679758308157099, 0.7073170731707317, 0.531...</td>\n",
              "      <td>[0.23821039903264818, 0.14913341394598956, 0.6...</td>\n",
              "      <td>2.442765</td>\n",
              "    </tr>\n",
              "    <tr>\n",
              "      <th>18</th>\n",
              "      <td>[GUM, HNL, SAN, LAX, CLD]</td>\n",
              "      <td>[(GUM, HNL), (HNL, SAN), (SAN, LAX), (LAX, CLD)]</td>\n",
              "      <td>[0.5679758308157099, 0.6151419558359621, 0.566...</td>\n",
              "      <td>[0.23821039903264818, 0.47742845626763397, 0.9...</td>\n",
              "      <td>2.385325</td>\n",
              "    </tr>\n",
              "    <tr>\n",
              "      <th>19</th>\n",
              "      <td>[GUM, HNL, ATL, LAX, CLD]</td>\n",
              "      <td>[(GUM, HNL), (HNL, ATL), (ATL, LAX), (LAX, CLD)]</td>\n",
              "      <td>[0.5679758308157099, 0.6265060240963856, 0.625...</td>\n",
              "      <td>[0.23821039903264818, 0.0969367190648932, 0.61...</td>\n",
              "      <td>2.455708</td>\n",
              "    </tr>\n",
              "    <tr>\n",
              "      <th>20</th>\n",
              "      <td>[GUM, HNL, DFW, LAX, CLD]</td>\n",
              "      <td>[(GUM, HNL), (HNL, DFW), (DFW, LAX), (LAX, CLD)]</td>\n",
              "      <td>[0.5679758308157099, 0.6666666666666667, 0.581...</td>\n",
              "      <td>[0.23821039903264818, 0.24163643692059655, 0.7...</td>\n",
              "      <td>2.451924</td>\n",
              "    </tr>\n",
              "    <tr>\n",
              "      <th>21</th>\n",
              "      <td>[GUM, HNL, DEN, LAX, CLD]</td>\n",
              "      <td>[(GUM, HNL), (HNL, DEN), (DEN, LAX), (LAX, CLD)]</td>\n",
              "      <td>[0.5679758308157099, 0.6818181818181819, 0.487...</td>\n",
              "      <td>[0.23821039903264818, 0.3260781942765014, 0.83...</td>\n",
              "      <td>2.372633</td>\n",
              "    </tr>\n",
              "    <tr>\n",
              "      <th>22</th>\n",
              "      <td>[GUM, HNL, SLC, LAX, CLD]</td>\n",
              "      <td>[(GUM, HNL), (HNL, SLC), (SLC, LAX), (LAX, CLD)]</td>\n",
              "      <td>[0.5679758308157099, 0.8637770897832817, 0.550...</td>\n",
              "      <td>[0.23821039903264818, 0.4008464328899637, 0.88...</td>\n",
              "      <td>2.618061</td>\n",
              "    </tr>\n",
              "    <tr>\n",
              "      <th>23</th>\n",
              "      <td>[GUM, HNL, ANC, LAX, CLD]</td>\n",
              "      <td>[(GUM, HNL), (HNL, ANC), (ANC, LAX), (LAX, CLD)]</td>\n",
              "      <td>[0.5679758308157099, 0.7709090909090909, 0.776...</td>\n",
              "      <td>[0.23821039903264818, 0.4445787988714228, 0.53...</td>\n",
              "      <td>2.751571</td>\n",
              "    </tr>\n",
              "    <tr>\n",
              "      <th>24</th>\n",
              "      <td>[GUM, HNL, MSP, LAX, CLD]</td>\n",
              "      <td>[(GUM, HNL), (HNL, MSP), (MSP, LAX), (LAX, CLD)]</td>\n",
              "      <td>[0.5679758308157099, 0.8444444444444444, 0.585...</td>\n",
              "      <td>[0.23821039903264818, 0.20374848851269645, 0.6...</td>\n",
              "      <td>2.633244</td>\n",
              "    </tr>\n",
              "  </tbody>\n",
              "</table>\n",
              "</div>"
            ],
            "text/plain": [
              "                         Path  ... Delay_Series\n",
              "0   [GUM, HNL, LAS, LAX, CLD]  ...     2.291134\n",
              "1   [GUM, HNL, ITO, LAX, CLD]  ...     2.446774\n",
              "2   [GUM, HNL, KOA, LAX, CLD]  ...     2.469910\n",
              "3   [GUM, HNL, OGG, LAX, CLD]  ...     2.415433\n",
              "4   [GUM, HNL, LIH, LAX, CLD]  ...     2.545688\n",
              "5        [GUM, HNL, LAX, CLD]  ...     1.887230\n",
              "6   [GUM, HNL, PDX, LAX, CLD]  ...     2.422266\n",
              "7   [GUM, HNL, SFO, LAX, CLD]  ...     2.346560\n",
              "8   [GUM, HNL, PHX, LAX, CLD]  ...     2.298317\n",
              "9   [GUM, HNL, SEA, LAX, CLD]  ...     2.332781\n",
              "10  [GUM, HNL, JFK, LAX, CLD]  ...     2.352203\n",
              "11  [GUM, HNL, IAD, LAX, CLD]  ...     2.510567\n",
              "12  [GUM, HNL, OAK, LAX, CLD]  ...     2.245567\n",
              "13  [GUM, HNL, EWR, LAX, CLD]  ...     2.531519\n",
              "14  [GUM, HNL, IAH, LAX, CLD]  ...     2.133826\n",
              "15  [GUM, HNL, SMF, LAX, CLD]  ...     2.072889\n",
              "16  [GUM, HNL, SJC, LAX, CLD]  ...     2.171301\n",
              "17  [GUM, HNL, ORD, LAX, CLD]  ...     2.442765\n",
              "18  [GUM, HNL, SAN, LAX, CLD]  ...     2.385325\n",
              "19  [GUM, HNL, ATL, LAX, CLD]  ...     2.455708\n",
              "20  [GUM, HNL, DFW, LAX, CLD]  ...     2.451924\n",
              "21  [GUM, HNL, DEN, LAX, CLD]  ...     2.372633\n",
              "22  [GUM, HNL, SLC, LAX, CLD]  ...     2.618061\n",
              "23  [GUM, HNL, ANC, LAX, CLD]  ...     2.751571\n",
              "24  [GUM, HNL, MSP, LAX, CLD]  ...     2.633244\n",
              "\n",
              "[25 rows x 5 columns]"
            ]
          },
          "metadata": {
            "tags": []
          },
          "execution_count": 31
        }
      ]
    },
    {
      "cell_type": "markdown",
      "metadata": {
        "id": "oLHKQD0doACx",
        "colab_type": "text"
      },
      "source": [
        "Ordino a seconda della varianza calcolcata con montecarlo"
      ]
    },
    {
      "cell_type": "code",
      "metadata": {
        "id": "7rMav3h_8Q3L",
        "colab_type": "code",
        "colab": {}
      },
      "source": [
        "def Average(lst): \n",
        "    return sum(lst) / len(lst) "
      ],
      "execution_count": 0,
      "outputs": []
    },
    {
      "cell_type": "markdown",
      "metadata": {
        "id": "z29-IulMZsZZ",
        "colab_type": "text"
      },
      "source": [
        "STANDARDIZZIAMO LA DELAY_SERIES IN MODO CHE POSSIAMO SOMMARE I VALORI CON LA PATH_DISTANCE_STD"
      ]
    },
    {
      "cell_type": "code",
      "metadata": {
        "id": "0C72yoLMLlL2",
        "colab_type": "code",
        "colab": {}
      },
      "source": [
        "from sklearn.preprocessing import MinMaxScaler\n",
        "def standardizer_mcdelay_distance(df, column ):\n",
        "  X = df.Delay_Series\n",
        "  X = X.to_frame()\n",
        "  scaler = preprocessing.MinMaxScaler()\n",
        "  scaled_df = scaler.fit_transform(X)\n",
        "  new_column = pd.DataFrame(scaled_df, columns=['Delay_Series'])\n",
        "  new_column.loc[:,'Delay_Series'] = 1- new_column.loc[:,'Delay_Series']\n",
        "  df = pd.concat([new_column, df], axis=1)\n",
        "  return df"
      ],
      "execution_count": 0,
      "outputs": []
    },
    {
      "cell_type": "code",
      "metadata": {
        "id": "qNQZscibPQ1t",
        "colab_type": "code",
        "outputId": "fa508a19-012e-4963-9490-b9fe8523f997",
        "colab": {
          "base_uri": "https://localhost:8080/",
          "height": 285
        }
      },
      "source": [
        "list_path['Delay_Series']= standardizer_mcdelay_distance(list_path, 'Delay_Series')\n",
        "list_path.head()\n"
      ],
      "execution_count": 34,
      "outputs": [
        {
          "output_type": "execute_result",
          "data": {
            "text/html": [
              "<div>\n",
              "<style scoped>\n",
              "    .dataframe tbody tr th:only-of-type {\n",
              "        vertical-align: middle;\n",
              "    }\n",
              "\n",
              "    .dataframe tbody tr th {\n",
              "        vertical-align: top;\n",
              "    }\n",
              "\n",
              "    .dataframe thead th {\n",
              "        text-align: right;\n",
              "    }\n",
              "</style>\n",
              "<table border=\"1\" class=\"dataframe\">\n",
              "  <thead>\n",
              "    <tr style=\"text-align: right;\">\n",
              "      <th></th>\n",
              "      <th>Path</th>\n",
              "      <th>individuals</th>\n",
              "      <th>Path_delay_std</th>\n",
              "      <th>Path_distance_std</th>\n",
              "      <th>Delay_Series</th>\n",
              "    </tr>\n",
              "  </thead>\n",
              "  <tbody>\n",
              "    <tr>\n",
              "      <th>0</th>\n",
              "      <td>[GUM, HNL, LAS, LAX, CLD]</td>\n",
              "      <td>[(GUM, HNL), (HNL, LAS), (LAS, LAX), (LAX, CLD)]</td>\n",
              "      <td>[0.5679758308157099, 0.626387176325524, 0.4609...</td>\n",
              "      <td>[0.23821039903264818, 0.4476017734784361, 0.95...</td>\n",
              "      <td>0.532702</td>\n",
              "    </tr>\n",
              "    <tr>\n",
              "      <th>1</th>\n",
              "      <td>[GUM, HNL, ITO, LAX, CLD]</td>\n",
              "      <td>[(GUM, HNL), (HNL, ITO), (ITO, LAX), (LAX, CLD)]</td>\n",
              "      <td>[0.5679758308157099, 0.5516088591725867, 0.691...</td>\n",
              "      <td>[0.23821039903264818, 0.9607013301088271, 0.51...</td>\n",
              "      <td>0.352635</td>\n",
              "    </tr>\n",
              "    <tr>\n",
              "      <th>2</th>\n",
              "      <td>[GUM, HNL, KOA, LAX, CLD]</td>\n",
              "      <td>[(GUM, HNL), (HNL, KOA), (KOA, LAX), (LAX, CLD)]</td>\n",
              "      <td>[0.5679758308157099, 0.5968020065841041, 0.669...</td>\n",
              "      <td>[0.23821039903264818, 0.9713825070536074, 0.49...</td>\n",
              "      <td>0.325868</td>\n",
              "    </tr>\n",
              "    <tr>\n",
              "      <th>3</th>\n",
              "      <td>[GUM, HNL, OGG, LAX, CLD]</td>\n",
              "      <td>[(GUM, HNL), (HNL, OGG), (OGG, LAX), (LAX, CLD)]</td>\n",
              "      <td>[0.5679758308157099, 0.5543293718166384, 0.657...</td>\n",
              "      <td>[0.23821039903264818, 0.9840790004030633, 0.50...</td>\n",
              "      <td>0.388894</td>\n",
              "    </tr>\n",
              "    <tr>\n",
              "      <th>4</th>\n",
              "      <td>[GUM, HNL, LIH, LAX, CLD]</td>\n",
              "      <td>[(GUM, HNL), (HNL, LIH), (LIH, LAX), (LAX, CLD)]</td>\n",
              "      <td>[0.5679758308157099, 0.5993162393162393, 0.742...</td>\n",
              "      <td>[0.23821039903264818, 0.9836759371221282, 0.47...</td>\n",
              "      <td>0.238197</td>\n",
              "    </tr>\n",
              "  </tbody>\n",
              "</table>\n",
              "</div>"
            ],
            "text/plain": [
              "                        Path  ... Delay_Series\n",
              "0  [GUM, HNL, LAS, LAX, CLD]  ...     0.532702\n",
              "1  [GUM, HNL, ITO, LAX, CLD]  ...     0.352635\n",
              "2  [GUM, HNL, KOA, LAX, CLD]  ...     0.325868\n",
              "3  [GUM, HNL, OGG, LAX, CLD]  ...     0.388894\n",
              "4  [GUM, HNL, LIH, LAX, CLD]  ...     0.238197\n",
              "\n",
              "[5 rows x 5 columns]"
            ]
          },
          "metadata": {
            "tags": []
          },
          "execution_count": 34
        }
      ]
    },
    {
      "cell_type": "markdown",
      "metadata": {
        "id": "cF7UO_EeZ9a0",
        "colab_type": "text"
      },
      "source": [
        "PER CALCOLARE LA FITNESS VALUE SOMMIAMO \"Delay_Series\" E LA MEDIA \"Path_distance_std\""
      ]
    },
    {
      "cell_type": "code",
      "metadata": {
        "id": "z7dLeZWtPVkL",
        "colab_type": "code",
        "colab": {}
      },
      "source": [
        "def fitness_function(df, colonna1, colonna2):\n",
        "  list_of_fitness_value = []\n",
        "  for i, j in zip(df[str(colonna1)], df[str(colonna2)]):\n",
        "    x = i + Average(j)\n",
        "    list_of_fitness_value.append(x)\n",
        "  series_of_fitness_value = pd.Series(list_of_fitness_value)\n",
        "  df['fitness_values'] = series_of_fitness_value.values\n",
        "  return df"
      ],
      "execution_count": 0,
      "outputs": []
    },
    {
      "cell_type": "code",
      "metadata": {
        "id": "HY35RlmHPX-M",
        "colab_type": "code",
        "colab": {}
      },
      "source": [
        "list_path = fitness_function(list_path, \"Delay_Series\", \"Path_distance_std\")"
      ],
      "execution_count": 0,
      "outputs": []
    },
    {
      "cell_type": "markdown",
      "metadata": {
        "id": "JivqDLcmZTH2",
        "colab_type": "text"
      },
      "source": [
        "FUNZIONI CHE SORTIAMO IN MODO CRESCENTE E DECRESCENTE"
      ]
    },
    {
      "cell_type": "code",
      "metadata": {
        "id": "4N83rQphGZUg",
        "colab_type": "code",
        "colab": {}
      },
      "source": [
        "def dataframe_sorter(df, colonna):\n",
        "  df = df.sort_values([str(colonna)], ascending=True)\n",
        "  return df"
      ],
      "execution_count": 0,
      "outputs": []
    },
    {
      "cell_type": "code",
      "metadata": {
        "id": "MRW0L1rggDVe",
        "colab_type": "code",
        "colab": {}
      },
      "source": [
        "def dataframe_sorter_desc(df, colonna):\n",
        "  df = df.sort_values([str(colonna)], ascending=False)\n",
        "  return df"
      ],
      "execution_count": 0,
      "outputs": []
    },
    {
      "cell_type": "code",
      "metadata": {
        "id": "F9Jma0dZG4sl",
        "colab_type": "code",
        "outputId": "5e3601d0-da3b-4290-8b54-7d996efb3186",
        "colab": {
          "base_uri": "https://localhost:8080/",
          "height": 285
        }
      },
      "source": [
        "list_path = dataframe_sorter_desc(list_path, \"fitness_values\")\n",
        "list_path.head()"
      ],
      "execution_count": 39,
      "outputs": [
        {
          "output_type": "execute_result",
          "data": {
            "text/html": [
              "<div>\n",
              "<style scoped>\n",
              "    .dataframe tbody tr th:only-of-type {\n",
              "        vertical-align: middle;\n",
              "    }\n",
              "\n",
              "    .dataframe tbody tr th {\n",
              "        vertical-align: top;\n",
              "    }\n",
              "\n",
              "    .dataframe thead th {\n",
              "        text-align: right;\n",
              "    }\n",
              "</style>\n",
              "<table border=\"1\" class=\"dataframe\">\n",
              "  <thead>\n",
              "    <tr style=\"text-align: right;\">\n",
              "      <th></th>\n",
              "      <th>Path</th>\n",
              "      <th>individuals</th>\n",
              "      <th>Path_delay_std</th>\n",
              "      <th>Path_distance_std</th>\n",
              "      <th>Delay_Series</th>\n",
              "      <th>fitness_values</th>\n",
              "    </tr>\n",
              "  </thead>\n",
              "  <tbody>\n",
              "    <tr>\n",
              "      <th>5</th>\n",
              "      <td>[GUM, HNL, LAX, CLD]</td>\n",
              "      <td>[(GUM, HNL), (HNL, LAX), (LAX, CLD)]</td>\n",
              "      <td>[0.5679758308157099, 0.6834712334038868, 0.635...</td>\n",
              "      <td>[0.23821039903264818, 0.48911729141475213, 0.9...</td>\n",
              "      <td>1</td>\n",
              "      <td>1.571409</td>\n",
              "    </tr>\n",
              "    <tr>\n",
              "      <th>15</th>\n",
              "      <td>[GUM, HNL, SMF, LAX, CLD]</td>\n",
              "      <td>[(GUM, HNL), (HNL, SMF), (SMF, LAX), (LAX, CLD)]</td>\n",
              "      <td>[0.5679758308157099, 0.4186746987951807, 0.450...</td>\n",
              "      <td>[0.23821039903264818, 0.5080612656187021, 0.92...</td>\n",
              "      <td>0.785202</td>\n",
              "      <td>1.450760</td>\n",
              "    </tr>\n",
              "    <tr>\n",
              "      <th>16</th>\n",
              "      <td>[GUM, HNL, SJC, LAX, CLD]</td>\n",
              "      <td>[(GUM, HNL), (HNL, SJC), (SJC, LAX), (LAX, CLD)]</td>\n",
              "      <td>[0.5679758308157099, 0.5595667870036101, 0.407...</td>\n",
              "      <td>[0.23821039903264818, 0.517130189439742, 0.942...</td>\n",
              "      <td>0.671344</td>\n",
              "      <td>1.342444</td>\n",
              "    </tr>\n",
              "    <tr>\n",
              "      <th>14</th>\n",
              "      <td>[GUM, HNL, IAH, LAX, CLD]</td>\n",
              "      <td>[(GUM, HNL), (HNL, IAH), (IAH, LAX), (LAX, CLD)]</td>\n",
              "      <td>[0.5679758308157099, 0.5091463414634146, 0.420...</td>\n",
              "      <td>[0.23821039903264818, 0.21745264006449017, 0.7...</td>\n",
              "      <td>0.714701</td>\n",
              "      <td>1.256922</td>\n",
              "    </tr>\n",
              "    <tr>\n",
              "      <th>12</th>\n",
              "      <td>[GUM, HNL, OAK, LAX, CLD]</td>\n",
              "      <td>[(GUM, HNL), (HNL, OAK), (OAK, LAX), (LAX, CLD)]</td>\n",
              "      <td>[0.5679758308157099, 0.6339113680154143, 0.407...</td>\n",
              "      <td>[0.23821039903264818, 0.5187424425634825, 0.93...</td>\n",
              "      <td>0.585422</td>\n",
              "      <td>1.255464</td>\n",
              "    </tr>\n",
              "  </tbody>\n",
              "</table>\n",
              "</div>"
            ],
            "text/plain": [
              "                         Path  ... fitness_values\n",
              "5        [GUM, HNL, LAX, CLD]  ...       1.571409\n",
              "15  [GUM, HNL, SMF, LAX, CLD]  ...       1.450760\n",
              "16  [GUM, HNL, SJC, LAX, CLD]  ...       1.342444\n",
              "14  [GUM, HNL, IAH, LAX, CLD]  ...       1.256922\n",
              "12  [GUM, HNL, OAK, LAX, CLD]  ...       1.255464\n",
              "\n",
              "[5 rows x 6 columns]"
            ]
          },
          "metadata": {
            "tags": []
          },
          "execution_count": 39
        }
      ]
    },
    {
      "cell_type": "markdown",
      "metadata": {
        "id": "QdBYvwXmQt9o",
        "colab_type": "text"
      },
      "source": [
        "CREARE LA COLONNA PROBABILITà, CONTENTENTE IL VALORE NORMALIZZATO DELLA FITNESS VALUE\n",
        "\n"
      ]
    },
    {
      "cell_type": "code",
      "metadata": {
        "id": "clRTe0EfQsy1",
        "colab_type": "code",
        "colab": {}
      },
      "source": [
        "def probability(df):\n",
        "  df['zscore'] = (df.fitness_values - df.fitness_values.mean())/df.fitness_values.std(ddof=0)\n",
        "  df['Probability'] = st.norm.cdf(df.zscore)\n",
        "  df.drop(['zscore'], axis=1, inplace=True)\n",
        "  return df"
      ],
      "execution_count": 0,
      "outputs": []
    },
    {
      "cell_type": "code",
      "metadata": {
        "id": "HI8CzAwEW14P",
        "colab_type": "code",
        "colab": {}
      },
      "source": [
        "list_path = probability(list_path)"
      ],
      "execution_count": 0,
      "outputs": []
    },
    {
      "cell_type": "markdown",
      "metadata": {
        "id": "F4LUfBoLJHx1",
        "colab_type": "text"
      },
      "source": [
        "MAX_VALUE_CONSTANT MI RESTITUISCE IL VALORE DI FITNESS VALUE PIù ALTA"
      ]
    },
    {
      "cell_type": "code",
      "metadata": {
        "id": "fle__o_wnsPi",
        "colab_type": "code",
        "outputId": "170a9571-3883-4180-d367-24c94665f577",
        "colab": {
          "base_uri": "https://localhost:8080/",
          "height": 35
        }
      },
      "source": [
        "max_value_constant = list_path[\"fitness_values\"].loc[list_path[\"fitness_values\"].idxmax()]\n",
        "max_value_constant"
      ],
      "execution_count": 42,
      "outputs": [
        {
          "output_type": "execute_result",
          "data": {
            "text/plain": [
              "1.5714093779390033"
            ]
          },
          "metadata": {
            "tags": []
          },
          "execution_count": 42
        }
      ]
    },
    {
      "cell_type": "markdown",
      "metadata": {
        "id": "4tmhuoBqpfJS",
        "colab_type": "text"
      },
      "source": [
        "CREIAMO UNA FUNZIONE CON TUTTE LE POSSIBILI FUNZIONI DI SELEZIONE DI PROBABILITà, PER RENDERE CASUALE L'ORDINAMENTO\n",
        "\n"
      ]
    },
    {
      "cell_type": "code",
      "metadata": {
        "id": "LF3y9GPgptmJ",
        "colab_type": "code",
        "colab": {}
      },
      "source": [
        "#DataFrame.sample(self, n=None, frac=None, replace=False, weights=None, random_state=None, axis=None)\n",
        "def select_ind_probabilities(df, column_name, mode, n):\n",
        "  if mode == \"weighted\":\n",
        "    df = df.sample(n= n, frac=None, replace=False, weights=df[str(column_name)],axis=0)\n",
        "  if mode == \"random\":\n",
        "    df = df.sample(n= n, replace=False)\n",
        "  if mode == \"besthalf\":\n",
        "    df =  df.sort_values([str(column_name)], ascending=False)\n",
        "    half_df_len = int(len(df)/ 2) \n",
        "    df =  df.iloc[:, :half_df_len]\n",
        "  df.reset_index(drop=True, inplace=True)\n",
        "  return df"
      ],
      "execution_count": 0,
      "outputs": []
    },
    {
      "cell_type": "code",
      "metadata": {
        "id": "a3Rc9l3Nrhbp",
        "colab_type": "code",
        "outputId": "419af704-6481-4914-9cde-00c9020ed354",
        "colab": {
          "base_uri": "https://localhost:8080/",
          "height": 332
        }
      },
      "source": [
        "selected = select_ind_probabilities(list_path, \"Probability\", \"random\", 6)\n",
        "selected"
      ],
      "execution_count": 44,
      "outputs": [
        {
          "output_type": "execute_result",
          "data": {
            "text/html": [
              "<div>\n",
              "<style scoped>\n",
              "    .dataframe tbody tr th:only-of-type {\n",
              "        vertical-align: middle;\n",
              "    }\n",
              "\n",
              "    .dataframe tbody tr th {\n",
              "        vertical-align: top;\n",
              "    }\n",
              "\n",
              "    .dataframe thead th {\n",
              "        text-align: right;\n",
              "    }\n",
              "</style>\n",
              "<table border=\"1\" class=\"dataframe\">\n",
              "  <thead>\n",
              "    <tr style=\"text-align: right;\">\n",
              "      <th></th>\n",
              "      <th>Path</th>\n",
              "      <th>individuals</th>\n",
              "      <th>Path_delay_std</th>\n",
              "      <th>Path_distance_std</th>\n",
              "      <th>Delay_Series</th>\n",
              "      <th>fitness_values</th>\n",
              "      <th>Probability</th>\n",
              "    </tr>\n",
              "  </thead>\n",
              "  <tbody>\n",
              "    <tr>\n",
              "      <th>0</th>\n",
              "      <td>[GUM, HNL, SFO, LAX, CLD]</td>\n",
              "      <td>[(GUM, HNL), (HNL, SFO), (SFO, LAX), (LAX, CLD)]</td>\n",
              "      <td>[0.5679758308157099, 0.6486220472440944, 0.494...</td>\n",
              "      <td>[0.23821039903264818, 0.5209592906086256, 0.93...</td>\n",
              "      <td>0.468578</td>\n",
              "      <td>1.139174</td>\n",
              "      <td>0.685380</td>\n",
              "    </tr>\n",
              "    <tr>\n",
              "      <th>1</th>\n",
              "      <td>[GUM, HNL, ANC, LAX, CLD]</td>\n",
              "      <td>[(GUM, HNL), (HNL, ANC), (ANC, LAX), (LAX, CLD)]</td>\n",
              "      <td>[0.5679758308157099, 0.7709090909090909, 0.776...</td>\n",
              "      <td>[0.23821039903264818, 0.4445787988714228, 0.53...</td>\n",
              "      <td>0</td>\n",
              "      <td>0.550333</td>\n",
              "      <td>0.026614</td>\n",
              "    </tr>\n",
              "    <tr>\n",
              "      <th>2</th>\n",
              "      <td>[GUM, HNL, SMF, LAX, CLD]</td>\n",
              "      <td>[(GUM, HNL), (HNL, SMF), (SMF, LAX), (LAX, CLD)]</td>\n",
              "      <td>[0.5679758308157099, 0.4186746987951807, 0.450...</td>\n",
              "      <td>[0.23821039903264818, 0.5080612656187021, 0.92...</td>\n",
              "      <td>0.785202</td>\n",
              "      <td>1.450760</td>\n",
              "      <td>0.960893</td>\n",
              "    </tr>\n",
              "    <tr>\n",
              "      <th>3</th>\n",
              "      <td>[GUM, HNL, PDX, LAX, CLD]</td>\n",
              "      <td>[(GUM, HNL), (HNL, PDX), (PDX, LAX), (LAX, CLD)]</td>\n",
              "      <td>[0.5679758308157099, 0.5918653576437587, 0.626...</td>\n",
              "      <td>[0.23821039903264818, 0.4796453043127771, 0.83...</td>\n",
              "      <td>0.380989</td>\n",
              "      <td>1.016217</td>\n",
              "      <td>0.491358</td>\n",
              "    </tr>\n",
              "    <tr>\n",
              "      <th>4</th>\n",
              "      <td>[GUM, HNL, SLC, LAX, CLD]</td>\n",
              "      <td>[(GUM, HNL), (HNL, SLC), (SLC, LAX), (LAX, CLD)]</td>\n",
              "      <td>[0.5679758308157099, 0.8637770897832817, 0.550...</td>\n",
              "      <td>[0.23821039903264818, 0.4008464328899637, 0.88...</td>\n",
              "      <td>0.154464</td>\n",
              "      <td>0.782286</td>\n",
              "      <td>0.163193</td>\n",
              "    </tr>\n",
              "    <tr>\n",
              "      <th>5</th>\n",
              "      <td>[GUM, HNL, LAS, LAX, CLD]</td>\n",
              "      <td>[(GUM, HNL), (HNL, LAS), (LAS, LAX), (LAX, CLD)]</td>\n",
              "      <td>[0.5679758308157099, 0.626387176325524, 0.4609...</td>\n",
              "      <td>[0.23821039903264818, 0.4476017734784361, 0.95...</td>\n",
              "      <td>0.532702</td>\n",
              "      <td>1.190048</td>\n",
              "      <td>0.755380</td>\n",
              "    </tr>\n",
              "  </tbody>\n",
              "</table>\n",
              "</div>"
            ],
            "text/plain": [
              "                        Path  ... Probability\n",
              "0  [GUM, HNL, SFO, LAX, CLD]  ...    0.685380\n",
              "1  [GUM, HNL, ANC, LAX, CLD]  ...    0.026614\n",
              "2  [GUM, HNL, SMF, LAX, CLD]  ...    0.960893\n",
              "3  [GUM, HNL, PDX, LAX, CLD]  ...    0.491358\n",
              "4  [GUM, HNL, SLC, LAX, CLD]  ...    0.163193\n",
              "5  [GUM, HNL, LAS, LAX, CLD]  ...    0.755380\n",
              "\n",
              "[6 rows x 7 columns]"
            ]
          },
          "metadata": {
            "tags": []
          },
          "execution_count": 44
        }
      ]
    },
    {
      "cell_type": "markdown",
      "metadata": {
        "id": "qegFbhn6Y5tI",
        "colab_type": "text"
      },
      "source": [
        "EFFETUIAMO LA MUTATION DELLE ROTTE, OVVERO MUTIAMO IN MODO RANDOMICO UN CROMOSOMA CON UN ALTRO NELLO STESSO INDIVIDUO"
      ]
    },
    {
      "cell_type": "code",
      "metadata": {
        "id": "g8k8-P5FsMt8",
        "colab_type": "code",
        "colab": {}
      },
      "source": [
        "def swapPositions(lista, pos1, pos2): \n",
        "    lista[pos1], lista[pos2] = lista[pos2], lista[pos1] \n",
        "    return lista"
      ],
      "execution_count": 0,
      "outputs": []
    },
    {
      "cell_type": "code",
      "metadata": {
        "id": "oxjyecVImDrf",
        "colab_type": "code",
        "colab": {}
      },
      "source": [
        "def mutation(df):\n",
        "  for row in df.iterrows():\n",
        "      if (len(row[1][0]) > 3):\n",
        "          list_index = list(range(1, len(row[1][0]) - 1))\n",
        "          pos1 = random.choice(list_index)\n",
        "          list_index.remove(pos1)\n",
        "          pos2 = random.choice(list_index)\n",
        "          list_swapped = swapPositions(row[1][0], pos1, pos2)\n",
        "  return df"
      ],
      "execution_count": 0,
      "outputs": []
    },
    {
      "cell_type": "markdown",
      "metadata": {
        "id": "NJVWUi9uL5eS",
        "colab_type": "text"
      },
      "source": [
        "CROSSOVER: FACCIAMO LO SWAPPING TRA CROMOSOMI DI INDIVIDUI DIVERSI(INCROCIANDOLI)"
      ]
    },
    {
      "cell_type": "code",
      "metadata": {
        "id": "cUkVn_9g6Krv",
        "colab_type": "code",
        "colab": {}
      },
      "source": [
        "def crossover(df):\n",
        "  out = df['Path'].apply(lambda x : pd.Series(x))\n",
        "  dfLength = len(out)\n",
        "  if dfLength%2==0:\n",
        "    oddIndex = list(range(0,dfLength-1, 2))\n",
        "    evenIndex = list(range(1, dfLength,2))\n",
        "  else:\n",
        "    oddIndex = list(range(0,dfLength, 2))\n",
        "    evenIndex = list(range(1, dfLength,2))\n",
        "\n",
        "  #Swapping delle righe pari-dispari\n",
        "  oddData = out.iloc[oddIndex][[1,2]].copy() \n",
        "  evenData = out.iloc[evenIndex][[1,2]].copy()\n",
        "\n",
        "  out.iloc[oddIndex, [1,2]] = evenData.values\n",
        "  out.iloc[evenIndex, [1,2]] = oddData.values\n",
        "\n",
        "  #Swapping colonne 2 e 3\n",
        "  col2 = out.loc[:,1].copy()\n",
        "  col3 = out.loc[:,2].copy()\n",
        "\n",
        "  out.loc[:,1] = col3.values\n",
        "  out.loc[:,2] = col2.values\n",
        "\n",
        "  df = out.apply(lambda x : list(x.dropna().values), axis = 1)\n",
        "\n",
        "  return df"
      ],
      "execution_count": 0,
      "outputs": []
    },
    {
      "cell_type": "code",
      "metadata": {
        "id": "ublo7JbImepD",
        "colab_type": "code",
        "outputId": "bcc09f8d-4fd4-4de2-9548-4b787ef32dea",
        "colab": {
          "base_uri": "https://localhost:8080/",
          "height": 230
        }
      },
      "source": [
        "df = crossover(selected)\n",
        "df = df.to_frame()\n",
        "df= df.rename(columns={0:'Path'})\n",
        "df"
      ],
      "execution_count": 48,
      "outputs": [
        {
          "output_type": "execute_result",
          "data": {
            "text/html": [
              "<div>\n",
              "<style scoped>\n",
              "    .dataframe tbody tr th:only-of-type {\n",
              "        vertical-align: middle;\n",
              "    }\n",
              "\n",
              "    .dataframe tbody tr th {\n",
              "        vertical-align: top;\n",
              "    }\n",
              "\n",
              "    .dataframe thead th {\n",
              "        text-align: right;\n",
              "    }\n",
              "</style>\n",
              "<table border=\"1\" class=\"dataframe\">\n",
              "  <thead>\n",
              "    <tr style=\"text-align: right;\">\n",
              "      <th></th>\n",
              "      <th>Path</th>\n",
              "    </tr>\n",
              "  </thead>\n",
              "  <tbody>\n",
              "    <tr>\n",
              "      <th>0</th>\n",
              "      <td>[GUM, ANC, HNL, LAX, CLD]</td>\n",
              "    </tr>\n",
              "    <tr>\n",
              "      <th>1</th>\n",
              "      <td>[GUM, SFO, HNL, LAX, CLD]</td>\n",
              "    </tr>\n",
              "    <tr>\n",
              "      <th>2</th>\n",
              "      <td>[GUM, PDX, HNL, LAX, CLD]</td>\n",
              "    </tr>\n",
              "    <tr>\n",
              "      <th>3</th>\n",
              "      <td>[GUM, SMF, HNL, LAX, CLD]</td>\n",
              "    </tr>\n",
              "    <tr>\n",
              "      <th>4</th>\n",
              "      <td>[GUM, LAS, HNL, LAX, CLD]</td>\n",
              "    </tr>\n",
              "    <tr>\n",
              "      <th>5</th>\n",
              "      <td>[GUM, SLC, HNL, LAX, CLD]</td>\n",
              "    </tr>\n",
              "  </tbody>\n",
              "</table>\n",
              "</div>"
            ],
            "text/plain": [
              "                        Path\n",
              "0  [GUM, ANC, HNL, LAX, CLD]\n",
              "1  [GUM, SFO, HNL, LAX, CLD]\n",
              "2  [GUM, PDX, HNL, LAX, CLD]\n",
              "3  [GUM, SMF, HNL, LAX, CLD]\n",
              "4  [GUM, LAS, HNL, LAX, CLD]\n",
              "5  [GUM, SLC, HNL, LAX, CLD]"
            ]
          },
          "metadata": {
            "tags": []
          },
          "execution_count": 48
        }
      ]
    },
    {
      "cell_type": "markdown",
      "metadata": {
        "id": "hSnAFW_tNNDo",
        "colab_type": "text"
      },
      "source": [
        "GENETIC ALGORITHM\n",
        "\n",
        "ORA PRENDIAMO IN CONSIDERAZIONE IL DATAFRAME NUOVO DATAFRAME RISULTATO DELLE OPERAZIONI PRECEDENTI. SU DI ESSO VERRANNO ITERATE LE STESSE FUNZIONI N VOLTE ALLO SCOPO DI RICAVARE LA FITNESS VALUE MIGLIORE.\n",
        "\n",
        "IL DATAFRAME SARà COMPOSTO DAGLI INDIVIDUI, PATH_DISTANCE_STD, PATH_DELAT_STD E LE FITNESS VALUE MIGLIORI PER LE VARIE ROTTE"
      ]
    },
    {
      "cell_type": "code",
      "metadata": {
        "id": "q9BqfD8MRbeF",
        "colab_type": "code",
        "outputId": "3bee98fc-4f57-4c0b-a08f-4661321cd97a",
        "colab": {
          "base_uri": "https://localhost:8080/",
          "height": 1000
        }
      },
      "source": [
        "#iterate fitness function\n",
        "elite = pd.DataFrame()\n",
        "df_generale = list_path\n",
        "F,Q = [],[] #liste che servono per le visualizzazioni\n",
        "lista_valori_max, lista_indici_max = [],[]\n",
        "for i in range(500):\n",
        "  selection= select_ind_probabilities(list_path, \"Probability\", \"weighted\", 10) #per n volte prende da list_path 10 righe\n",
        "  selection_path = selection.Path \n",
        "  selection_path = selection_path.to_frame() \n",
        "  selection_path.rename(columns={0:'Path'}, inplace=True)\n",
        "  selection_path = mutation(selection_path) #mutation\n",
        "  selection_path = crossover(selection_path) #crossover\n",
        "  selection_path = selection_path.to_frame()\n",
        "  selection_path = selection_path.rename(columns={0:'Path'})\n",
        "  selection_path = selection_path.Path.apply(lambda x: list(pd.unique(x)))\n",
        "  selection_path = selection_path.to_frame()\n",
        "  selection_path = selection_path.rename(columns={0:'Path'})\n",
        "  selection_path = route_creator(selection_path,'Path')   # dalla lista degli aeroporti ricreami le route\n",
        "  selection_path = Path_delay_std(selection_path) #crea il ritardo\n",
        "  selection_path = Path_distance_std(selection_path) #crea la distanza\n",
        "  selection_path = Delay_creator_with_MonteCarlo(selection_path,'Path_delay_std') #crea colonna delay\n",
        "  selection_path = fitness_function(selection_path, \"Delay_Series\", \"Path_distance_std\")\n",
        "  selection_path = dataframe_sorter_desc(selection_path, \"fitness_values\")\n",
        "  for  index, row  in selection_path.iterrows():\n",
        "    if (len(row[1]) != len(row[2])):\n",
        "      selection_path.drop(index, inplace=True)\n",
        "  if selection_path[\"fitness_values\"].empty == True:\n",
        "    lista_valori_max.append(0)\n",
        "    lista_indici_max.append(i)\n",
        "  else:\n",
        "    lista_valori_max.append(selection_path[\"fitness_values\"].loc[selection_path[\"fitness_values\"].idxmax()])\n",
        "    lista_indici_max.append(i)\n",
        "  selection_path_to_append = selection_path.head(5)\n",
        "  df_generale = df_generale.append(selection_path_to_append, ignore_index=True)\n",
        "  df_generale = df_generale.drop_duplicates(subset='fitness_values', keep='last')\n",
        "  max_value = df_generale[\"fitness_values\"].loc[df_generale[\"fitness_values\"].idxmax()]\n",
        "  Q.append(i)\n",
        "  F.append(max_value)\n",
        "  print(\"gen n \",i)\n",
        "df_generale = dataframe_sorter_desc(df_generale, \"fitness_values\")\n",
        "df_generale[['individuals','Path_delay_std', 'Path_distance_std','fitness_values']].head(10)\n"
      ],
      "execution_count": 49,
      "outputs": [
        {
          "output_type": "stream",
          "text": [
            "/usr/local/lib/python3.6/dist-packages/pandas/core/frame.py:7138: FutureWarning: Sorting because non-concatenation axis is not aligned. A future version\n",
            "of pandas will change to not sort by default.\n",
            "\n",
            "To accept the future behavior, pass 'sort=False'.\n",
            "\n",
            "To retain the current behavior and silence the warning, pass 'sort=True'.\n",
            "\n",
            "  sort=sort,\n"
          ],
          "name": "stderr"
        },
        {
          "output_type": "stream",
          "text": [
            "gen n  0\n",
            "gen n  1\n",
            "gen n  2\n",
            "gen n  3\n",
            "gen n  4\n",
            "gen n  5\n",
            "gen n  6\n",
            "gen n  7\n",
            "gen n  8\n",
            "gen n  9\n",
            "gen n  10\n",
            "gen n  11\n",
            "gen n  12\n",
            "gen n  13\n",
            "gen n  14\n",
            "gen n  15\n",
            "gen n  16\n",
            "gen n  17\n",
            "gen n  18\n",
            "gen n  19\n",
            "gen n  20\n",
            "gen n  21\n",
            "gen n  22\n",
            "gen n  23\n",
            "gen n  24\n",
            "gen n  25\n",
            "gen n  26\n",
            "gen n  27\n",
            "gen n  28\n",
            "gen n  29\n",
            "gen n  30\n",
            "gen n  31\n",
            "gen n  32\n",
            "gen n  33\n",
            "gen n  34\n",
            "gen n  35\n",
            "gen n  36\n",
            "gen n  37\n",
            "gen n  38\n",
            "gen n  39\n",
            "gen n  40\n",
            "gen n  41\n",
            "gen n  42\n",
            "gen n  43\n",
            "gen n  44\n",
            "gen n  45\n",
            "gen n  46\n",
            "gen n  47\n",
            "gen n  48\n",
            "gen n  49\n",
            "gen n  50\n",
            "gen n  51\n",
            "gen n  52\n",
            "gen n  53\n",
            "gen n  54\n",
            "gen n  55\n",
            "gen n  56\n",
            "gen n  57\n",
            "gen n  58\n",
            "gen n  59\n",
            "gen n  60\n",
            "gen n  61\n",
            "gen n  62\n",
            "gen n  63\n",
            "gen n  64\n",
            "gen n  65\n",
            "gen n  66\n",
            "gen n  67\n",
            "gen n  68\n",
            "gen n  69\n",
            "gen n  70\n",
            "gen n  71\n",
            "gen n  72\n",
            "gen n  73\n",
            "gen n  74\n",
            "gen n  75\n",
            "gen n  76\n",
            "gen n  77\n",
            "gen n  78\n",
            "gen n  79\n",
            "gen n  80\n",
            "gen n  81\n",
            "gen n  82\n",
            "gen n  83\n",
            "gen n  84\n",
            "gen n  85\n",
            "gen n  86\n",
            "gen n  87\n",
            "gen n  88\n",
            "gen n  89\n",
            "gen n  90\n",
            "gen n  91\n",
            "gen n  92\n",
            "gen n  93\n",
            "gen n  94\n",
            "gen n  95\n",
            "gen n  96\n",
            "gen n  97\n",
            "gen n  98\n",
            "gen n  99\n",
            "gen n  100\n",
            "gen n  101\n",
            "gen n  102\n",
            "gen n  103\n",
            "gen n  104\n",
            "gen n  105\n",
            "gen n  106\n",
            "gen n  107\n",
            "gen n  108\n",
            "gen n  109\n",
            "gen n  110\n",
            "gen n  111\n",
            "gen n  112\n",
            "gen n  113\n",
            "gen n  114\n",
            "gen n  115\n",
            "gen n  116\n",
            "gen n  117\n",
            "gen n  118\n",
            "gen n  119\n",
            "gen n  120\n",
            "gen n  121\n",
            "gen n  122\n",
            "gen n  123\n",
            "gen n  124\n",
            "gen n  125\n",
            "gen n  126\n",
            "gen n  127\n",
            "gen n  128\n",
            "gen n  129\n",
            "gen n  130\n",
            "gen n  131\n",
            "gen n  132\n",
            "gen n  133\n",
            "gen n  134\n",
            "gen n  135\n",
            "gen n  136\n",
            "gen n  137\n",
            "gen n  138\n",
            "gen n  139\n",
            "gen n  140\n",
            "gen n  141\n",
            "gen n  142\n",
            "gen n  143\n",
            "gen n  144\n",
            "gen n  145\n",
            "gen n  146\n",
            "gen n  147\n",
            "gen n  148\n",
            "gen n  149\n",
            "gen n  150\n",
            "gen n  151\n",
            "gen n  152\n",
            "gen n  153\n",
            "gen n  154\n",
            "gen n  155\n",
            "gen n  156\n",
            "gen n  157\n",
            "gen n  158\n",
            "gen n  159\n",
            "gen n  160\n",
            "gen n  161\n",
            "gen n  162\n",
            "gen n  163\n",
            "gen n  164\n",
            "gen n  165\n",
            "gen n  166\n",
            "gen n  167\n",
            "gen n  168\n",
            "gen n  169\n",
            "gen n  170\n",
            "gen n  171\n",
            "gen n  172\n",
            "gen n  173\n",
            "gen n  174\n",
            "gen n  175\n",
            "gen n  176\n",
            "gen n  177\n",
            "gen n  178\n",
            "gen n  179\n",
            "gen n  180\n",
            "gen n  181\n",
            "gen n  182\n",
            "gen n  183\n",
            "gen n  184\n",
            "gen n  185\n",
            "gen n  186\n",
            "gen n  187\n",
            "gen n  188\n",
            "gen n  189\n",
            "gen n  190\n",
            "gen n  191\n",
            "gen n  192\n",
            "gen n  193\n",
            "gen n  194\n",
            "gen n  195\n",
            "gen n  196\n",
            "gen n  197\n",
            "gen n  198\n",
            "gen n  199\n",
            "gen n  200\n",
            "gen n  201\n",
            "gen n  202\n",
            "gen n  203\n",
            "gen n  204\n",
            "gen n  205\n",
            "gen n  206\n",
            "gen n  207\n",
            "gen n  208\n",
            "gen n  209\n",
            "gen n  210\n",
            "gen n  211\n",
            "gen n  212\n",
            "gen n  213\n",
            "gen n  214\n",
            "gen n  215\n",
            "gen n  216\n",
            "gen n  217\n",
            "gen n  218\n",
            "gen n  219\n",
            "gen n  220\n",
            "gen n  221\n",
            "gen n  222\n",
            "gen n  223\n",
            "gen n  224\n",
            "gen n  225\n",
            "gen n  226\n",
            "gen n  227\n",
            "gen n  228\n",
            "gen n  229\n",
            "gen n  230\n",
            "gen n  231\n",
            "gen n  232\n",
            "gen n  233\n",
            "gen n  234\n",
            "gen n  235\n",
            "gen n  236\n",
            "gen n  237\n",
            "gen n  238\n",
            "gen n  239\n",
            "gen n  240\n",
            "gen n  241\n",
            "gen n  242\n",
            "gen n  243\n",
            "gen n  244\n",
            "gen n  245\n",
            "gen n  246\n",
            "gen n  247\n",
            "gen n  248\n",
            "gen n  249\n",
            "gen n  250\n",
            "gen n  251\n",
            "gen n  252\n",
            "gen n  253\n",
            "gen n  254\n",
            "gen n  255\n",
            "gen n  256\n",
            "gen n  257\n",
            "gen n  258\n",
            "gen n  259\n",
            "gen n  260\n",
            "gen n  261\n",
            "gen n  262\n",
            "gen n  263\n",
            "gen n  264\n",
            "gen n  265\n",
            "gen n  266\n",
            "gen n  267\n",
            "gen n  268\n",
            "gen n  269\n",
            "gen n  270\n",
            "gen n  271\n",
            "gen n  272\n",
            "gen n  273\n",
            "gen n  274\n",
            "gen n  275\n",
            "gen n  276\n",
            "gen n  277\n",
            "gen n  278\n",
            "gen n  279\n",
            "gen n  280\n",
            "gen n  281\n",
            "gen n  282\n",
            "gen n  283\n",
            "gen n  284\n",
            "gen n  285\n",
            "gen n  286\n",
            "gen n  287\n",
            "gen n  288\n",
            "gen n  289\n",
            "gen n  290\n",
            "gen n  291\n",
            "gen n  292\n",
            "gen n  293\n",
            "gen n  294\n",
            "gen n  295\n",
            "gen n  296\n",
            "gen n  297\n",
            "gen n  298\n",
            "gen n  299\n",
            "gen n  300\n",
            "gen n  301\n",
            "gen n  302\n",
            "gen n  303\n",
            "gen n  304\n",
            "gen n  305\n",
            "gen n  306\n",
            "gen n  307\n",
            "gen n  308\n",
            "gen n  309\n",
            "gen n  310\n",
            "gen n  311\n",
            "gen n  312\n",
            "gen n  313\n",
            "gen n  314\n",
            "gen n  315\n",
            "gen n  316\n",
            "gen n  317\n",
            "gen n  318\n",
            "gen n  319\n",
            "gen n  320\n",
            "gen n  321\n",
            "gen n  322\n",
            "gen n  323\n",
            "gen n  324\n",
            "gen n  325\n",
            "gen n  326\n",
            "gen n  327\n",
            "gen n  328\n",
            "gen n  329\n",
            "gen n  330\n",
            "gen n  331\n",
            "gen n  332\n",
            "gen n  333\n",
            "gen n  334\n",
            "gen n  335\n",
            "gen n  336\n",
            "gen n  337\n",
            "gen n  338\n",
            "gen n  339\n",
            "gen n  340\n",
            "gen n  341\n",
            "gen n  342\n",
            "gen n  343\n",
            "gen n  344\n",
            "gen n  345\n",
            "gen n  346\n",
            "gen n  347\n",
            "gen n  348\n",
            "gen n  349\n",
            "gen n  350\n",
            "gen n  351\n",
            "gen n  352\n",
            "gen n  353\n",
            "gen n  354\n",
            "gen n  355\n",
            "gen n  356\n",
            "gen n  357\n",
            "gen n  358\n",
            "gen n  359\n",
            "gen n  360\n",
            "gen n  361\n",
            "gen n  362\n",
            "gen n  363\n",
            "gen n  364\n",
            "gen n  365\n",
            "gen n  366\n",
            "gen n  367\n",
            "gen n  368\n",
            "gen n  369\n",
            "gen n  370\n",
            "gen n  371\n",
            "gen n  372\n",
            "gen n  373\n",
            "gen n  374\n",
            "gen n  375\n",
            "gen n  376\n",
            "gen n  377\n",
            "gen n  378\n",
            "gen n  379\n",
            "gen n  380\n",
            "gen n  381\n",
            "gen n  382\n",
            "gen n  383\n",
            "gen n  384\n",
            "gen n  385\n",
            "gen n  386\n",
            "gen n  387\n",
            "gen n  388\n",
            "gen n  389\n",
            "gen n  390\n",
            "gen n  391\n",
            "gen n  392\n",
            "gen n  393\n",
            "gen n  394\n",
            "gen n  395\n",
            "gen n  396\n",
            "gen n  397\n",
            "gen n  398\n",
            "gen n  399\n",
            "gen n  400\n",
            "gen n  401\n",
            "gen n  402\n",
            "gen n  403\n",
            "gen n  404\n",
            "gen n  405\n",
            "gen n  406\n",
            "gen n  407\n",
            "gen n  408\n",
            "gen n  409\n",
            "gen n  410\n",
            "gen n  411\n",
            "gen n  412\n",
            "gen n  413\n",
            "gen n  414\n",
            "gen n  415\n",
            "gen n  416\n",
            "gen n  417\n",
            "gen n  418\n",
            "gen n  419\n",
            "gen n  420\n",
            "gen n  421\n",
            "gen n  422\n",
            "gen n  423\n",
            "gen n  424\n",
            "gen n  425\n",
            "gen n  426\n",
            "gen n  427\n",
            "gen n  428\n",
            "gen n  429\n",
            "gen n  430\n",
            "gen n  431\n",
            "gen n  432\n",
            "gen n  433\n",
            "gen n  434\n",
            "gen n  435\n",
            "gen n  436\n",
            "gen n  437\n",
            "gen n  438\n",
            "gen n  439\n",
            "gen n  440\n",
            "gen n  441\n",
            "gen n  442\n",
            "gen n  443\n",
            "gen n  444\n",
            "gen n  445\n",
            "gen n  446\n",
            "gen n  447\n",
            "gen n  448\n",
            "gen n  449\n",
            "gen n  450\n",
            "gen n  451\n",
            "gen n  452\n",
            "gen n  453\n",
            "gen n  454\n",
            "gen n  455\n",
            "gen n  456\n",
            "gen n  457\n",
            "gen n  458\n",
            "gen n  459\n",
            "gen n  460\n",
            "gen n  461\n",
            "gen n  462\n",
            "gen n  463\n",
            "gen n  464\n",
            "gen n  465\n",
            "gen n  466\n",
            "gen n  467\n",
            "gen n  468\n",
            "gen n  469\n",
            "gen n  470\n",
            "gen n  471\n",
            "gen n  472\n",
            "gen n  473\n",
            "gen n  474\n",
            "gen n  475\n",
            "gen n  476\n",
            "gen n  477\n",
            "gen n  478\n",
            "gen n  479\n",
            "gen n  480\n",
            "gen n  481\n",
            "gen n  482\n",
            "gen n  483\n",
            "gen n  484\n",
            "gen n  485\n",
            "gen n  486\n",
            "gen n  487\n",
            "gen n  488\n",
            "gen n  489\n",
            "gen n  490\n",
            "gen n  491\n",
            "gen n  492\n",
            "gen n  493\n",
            "gen n  494\n",
            "gen n  495\n",
            "gen n  496\n",
            "gen n  497\n",
            "gen n  498\n",
            "gen n  499\n"
          ],
          "name": "stdout"
        },
        {
          "output_type": "execute_result",
          "data": {
            "text/html": [
              "<div>\n",
              "<style scoped>\n",
              "    .dataframe tbody tr th:only-of-type {\n",
              "        vertical-align: middle;\n",
              "    }\n",
              "\n",
              "    .dataframe tbody tr th {\n",
              "        vertical-align: top;\n",
              "    }\n",
              "\n",
              "    .dataframe thead th {\n",
              "        text-align: right;\n",
              "    }\n",
              "</style>\n",
              "<table border=\"1\" class=\"dataframe\">\n",
              "  <thead>\n",
              "    <tr style=\"text-align: right;\">\n",
              "      <th></th>\n",
              "      <th>individuals</th>\n",
              "      <th>Path_delay_std</th>\n",
              "      <th>Path_distance_std</th>\n",
              "      <th>fitness_values</th>\n",
              "    </tr>\n",
              "  </thead>\n",
              "  <tbody>\n",
              "    <tr>\n",
              "      <th>25</th>\n",
              "      <td>[(GUM, HNL), (HNL, SLC), (SLC, LAX), (LAX, CLD)]</td>\n",
              "      <td>[0.5679758308157099, 0.8637770897832817, 0.550...</td>\n",
              "      <td>[0.23821039903264818, 0.4008464328899637, 0.88...</td>\n",
              "      <td>3.245882</td>\n",
              "    </tr>\n",
              "    <tr>\n",
              "      <th>35</th>\n",
              "      <td>[(GUM, HNL), (HNL, LIH), (LIH, LAX), (LAX, CLD)]</td>\n",
              "      <td>[0.5679758308157099, 0.5993162393162393, 0.742...</td>\n",
              "      <td>[0.23821039903264818, 0.9836759371221282, 0.47...</td>\n",
              "      <td>3.217191</td>\n",
              "    </tr>\n",
              "    <tr>\n",
              "      <th>38</th>\n",
              "      <td>[(GUM, HNL), (HNL, MSP), (MSP, LAX), (LAX, CLD)]</td>\n",
              "      <td>[0.5679758308157099, 0.8444444444444444, 0.585...</td>\n",
              "      <td>[0.23821039903264818, 0.20374848851269645, 0.6...</td>\n",
              "      <td>3.164179</td>\n",
              "    </tr>\n",
              "    <tr>\n",
              "      <th>36</th>\n",
              "      <td>[(GUM, HNL), (HNL, KOA), (KOA, LAX), (LAX, CLD)]</td>\n",
              "      <td>[0.5679758308157099, 0.5968020065841041, 0.669...</td>\n",
              "      <td>[0.23821039903264818, 0.9713825070536074, 0.49...</td>\n",
              "      <td>3.143932</td>\n",
              "    </tr>\n",
              "    <tr>\n",
              "      <th>39</th>\n",
              "      <td>[(GUM, HNL), (HNL, ITO), (ITO, LAX), (LAX, CLD)]</td>\n",
              "      <td>[0.5679758308157099, 0.5516088591725867, 0.691...</td>\n",
              "      <td>[0.23821039903264818, 0.9607013301088271, 0.51...</td>\n",
              "      <td>3.120897</td>\n",
              "    </tr>\n",
              "    <tr>\n",
              "      <th>32</th>\n",
              "      <td>[(GUM, HNL), (HNL, OGG), (OGG, LAX), (LAX, CLD)]</td>\n",
              "      <td>[0.5679758308157099, 0.5543293718166384, 0.657...</td>\n",
              "      <td>[0.23821039903264818, 0.9840790004030633, 0.50...</td>\n",
              "      <td>3.093537</td>\n",
              "    </tr>\n",
              "    <tr>\n",
              "      <th>43</th>\n",
              "      <td>[(GUM, HNL), (HNL, PDX), (PDX, LAX), (LAX, CLD)]</td>\n",
              "      <td>[0.5679758308157099, 0.5918653576437587, 0.626...</td>\n",
              "      <td>[0.23821039903264818, 0.4796453043127771, 0.83...</td>\n",
              "      <td>3.057494</td>\n",
              "    </tr>\n",
              "    <tr>\n",
              "      <th>27</th>\n",
              "      <td>[(GUM, HNL), (HNL, SAN), (SAN, LAX), (LAX, CLD)]</td>\n",
              "      <td>[0.5679758308157099, 0.6151419558359621, 0.566...</td>\n",
              "      <td>[0.23821039903264818, 0.47742845626763397, 0.9...</td>\n",
              "      <td>3.056526</td>\n",
              "    </tr>\n",
              "    <tr>\n",
              "      <th>31</th>\n",
              "      <td>[(GUM, HNL), (HNL, SFO), (SFO, LAX), (LAX, CLD)]</td>\n",
              "      <td>[0.5679758308157099, 0.6486220472440944, 0.494...</td>\n",
              "      <td>[0.23821039903264818, 0.5209592906086256, 0.93...</td>\n",
              "      <td>3.017156</td>\n",
              "    </tr>\n",
              "    <tr>\n",
              "      <th>33</th>\n",
              "      <td>[(GUM, HNL), (HNL, DFW), (DFW, LAX), (LAX, CLD)]</td>\n",
              "      <td>[0.5679758308157099, 0.6666666666666667, 0.581...</td>\n",
              "      <td>[0.23821039903264818, 0.24163643692059655, 0.7...</td>\n",
              "      <td>3.007446</td>\n",
              "    </tr>\n",
              "  </tbody>\n",
              "</table>\n",
              "</div>"
            ],
            "text/plain": [
              "                                         individuals  ... fitness_values\n",
              "25  [(GUM, HNL), (HNL, SLC), (SLC, LAX), (LAX, CLD)]  ...       3.245882\n",
              "35  [(GUM, HNL), (HNL, LIH), (LIH, LAX), (LAX, CLD)]  ...       3.217191\n",
              "38  [(GUM, HNL), (HNL, MSP), (MSP, LAX), (LAX, CLD)]  ...       3.164179\n",
              "36  [(GUM, HNL), (HNL, KOA), (KOA, LAX), (LAX, CLD)]  ...       3.143932\n",
              "39  [(GUM, HNL), (HNL, ITO), (ITO, LAX), (LAX, CLD)]  ...       3.120897\n",
              "32  [(GUM, HNL), (HNL, OGG), (OGG, LAX), (LAX, CLD)]  ...       3.093537\n",
              "43  [(GUM, HNL), (HNL, PDX), (PDX, LAX), (LAX, CLD)]  ...       3.057494\n",
              "27  [(GUM, HNL), (HNL, SAN), (SAN, LAX), (LAX, CLD)]  ...       3.056526\n",
              "31  [(GUM, HNL), (HNL, SFO), (SFO, LAX), (LAX, CLD)]  ...       3.017156\n",
              "33  [(GUM, HNL), (HNL, DFW), (DFW, LAX), (LAX, CLD)]  ...       3.007446\n",
              "\n",
              "[10 rows x 4 columns]"
            ]
          },
          "metadata": {
            "tags": []
          },
          "execution_count": 49
        }
      ]
    },
    {
      "cell_type": "code",
      "metadata": {
        "id": "jpMqTTAzmTqN",
        "colab_type": "code",
        "outputId": "d42dae9e-cc7d-48e5-b832-80ed663b97c9",
        "colab": {
          "base_uri": "https://localhost:8080/",
          "height": 655
        }
      },
      "source": [
        "df_generale[['individuals','Path_delay_std', 'Path_distance_std','fitness_values']].head(20)"
      ],
      "execution_count": 50,
      "outputs": [
        {
          "output_type": "execute_result",
          "data": {
            "text/html": [
              "<div>\n",
              "<style scoped>\n",
              "    .dataframe tbody tr th:only-of-type {\n",
              "        vertical-align: middle;\n",
              "    }\n",
              "\n",
              "    .dataframe tbody tr th {\n",
              "        vertical-align: top;\n",
              "    }\n",
              "\n",
              "    .dataframe thead th {\n",
              "        text-align: right;\n",
              "    }\n",
              "</style>\n",
              "<table border=\"1\" class=\"dataframe\">\n",
              "  <thead>\n",
              "    <tr style=\"text-align: right;\">\n",
              "      <th></th>\n",
              "      <th>individuals</th>\n",
              "      <th>Path_delay_std</th>\n",
              "      <th>Path_distance_std</th>\n",
              "      <th>fitness_values</th>\n",
              "    </tr>\n",
              "  </thead>\n",
              "  <tbody>\n",
              "    <tr>\n",
              "      <th>25</th>\n",
              "      <td>[(GUM, HNL), (HNL, SLC), (SLC, LAX), (LAX, CLD)]</td>\n",
              "      <td>[0.5679758308157099, 0.8637770897832817, 0.550...</td>\n",
              "      <td>[0.23821039903264818, 0.4008464328899637, 0.88...</td>\n",
              "      <td>3.245882</td>\n",
              "    </tr>\n",
              "    <tr>\n",
              "      <th>35</th>\n",
              "      <td>[(GUM, HNL), (HNL, LIH), (LIH, LAX), (LAX, CLD)]</td>\n",
              "      <td>[0.5679758308157099, 0.5993162393162393, 0.742...</td>\n",
              "      <td>[0.23821039903264818, 0.9836759371221282, 0.47...</td>\n",
              "      <td>3.217191</td>\n",
              "    </tr>\n",
              "    <tr>\n",
              "      <th>38</th>\n",
              "      <td>[(GUM, HNL), (HNL, MSP), (MSP, LAX), (LAX, CLD)]</td>\n",
              "      <td>[0.5679758308157099, 0.8444444444444444, 0.585...</td>\n",
              "      <td>[0.23821039903264818, 0.20374848851269645, 0.6...</td>\n",
              "      <td>3.164179</td>\n",
              "    </tr>\n",
              "    <tr>\n",
              "      <th>36</th>\n",
              "      <td>[(GUM, HNL), (HNL, KOA), (KOA, LAX), (LAX, CLD)]</td>\n",
              "      <td>[0.5679758308157099, 0.5968020065841041, 0.669...</td>\n",
              "      <td>[0.23821039903264818, 0.9713825070536074, 0.49...</td>\n",
              "      <td>3.143932</td>\n",
              "    </tr>\n",
              "    <tr>\n",
              "      <th>39</th>\n",
              "      <td>[(GUM, HNL), (HNL, ITO), (ITO, LAX), (LAX, CLD)]</td>\n",
              "      <td>[0.5679758308157099, 0.5516088591725867, 0.691...</td>\n",
              "      <td>[0.23821039903264818, 0.9607013301088271, 0.51...</td>\n",
              "      <td>3.120897</td>\n",
              "    </tr>\n",
              "    <tr>\n",
              "      <th>32</th>\n",
              "      <td>[(GUM, HNL), (HNL, OGG), (OGG, LAX), (LAX, CLD)]</td>\n",
              "      <td>[0.5679758308157099, 0.5543293718166384, 0.657...</td>\n",
              "      <td>[0.23821039903264818, 0.9840790004030633, 0.50...</td>\n",
              "      <td>3.093537</td>\n",
              "    </tr>\n",
              "    <tr>\n",
              "      <th>43</th>\n",
              "      <td>[(GUM, HNL), (HNL, PDX), (PDX, LAX), (LAX, CLD)]</td>\n",
              "      <td>[0.5679758308157099, 0.5918653576437587, 0.626...</td>\n",
              "      <td>[0.23821039903264818, 0.4796453043127771, 0.83...</td>\n",
              "      <td>3.057494</td>\n",
              "    </tr>\n",
              "    <tr>\n",
              "      <th>27</th>\n",
              "      <td>[(GUM, HNL), (HNL, SAN), (SAN, LAX), (LAX, CLD)]</td>\n",
              "      <td>[0.5679758308157099, 0.6151419558359621, 0.566...</td>\n",
              "      <td>[0.23821039903264818, 0.47742845626763397, 0.9...</td>\n",
              "      <td>3.056526</td>\n",
              "    </tr>\n",
              "    <tr>\n",
              "      <th>31</th>\n",
              "      <td>[(GUM, HNL), (HNL, SFO), (SFO, LAX), (LAX, CLD)]</td>\n",
              "      <td>[0.5679758308157099, 0.6486220472440944, 0.494...</td>\n",
              "      <td>[0.23821039903264818, 0.5209592906086256, 0.93...</td>\n",
              "      <td>3.017156</td>\n",
              "    </tr>\n",
              "    <tr>\n",
              "      <th>33</th>\n",
              "      <td>[(GUM, HNL), (HNL, DFW), (DFW, LAX), (LAX, CLD)]</td>\n",
              "      <td>[0.5679758308157099, 0.6666666666666667, 0.581...</td>\n",
              "      <td>[0.23821039903264818, 0.24163643692059655, 0.7...</td>\n",
              "      <td>3.007446</td>\n",
              "    </tr>\n",
              "    <tr>\n",
              "      <th>26</th>\n",
              "      <td>[(GUM, HNL), (HNL, DEN), (DEN, LAX), (LAX, CLD)]</td>\n",
              "      <td>[0.5679758308157099, 0.6818181818181819, 0.487...</td>\n",
              "      <td>[0.23821039903264818, 0.3260781942765014, 0.83...</td>\n",
              "      <td>2.968059</td>\n",
              "    </tr>\n",
              "    <tr>\n",
              "      <th>37</th>\n",
              "      <td>[(GUM, HNL), (HNL, IAD), (IAD, LAX), (LAX, CLD)]</td>\n",
              "      <td>[0.5679758308157099, 0.6867469879518072, 0.620...</td>\n",
              "      <td>[0.23821039903264818, 0.0334542523176139, 0.54...</td>\n",
              "      <td>2.960990</td>\n",
              "    </tr>\n",
              "    <tr>\n",
              "      <th>28</th>\n",
              "      <td>[(GUM, HNL), (HNL, SEA), (SEA, LAX), (LAX, CLD)]</td>\n",
              "      <td>[0.5679758308157099, 0.5755478662053056, 0.553...</td>\n",
              "      <td>[0.23821039903264818, 0.4647319629181782, 0.81...</td>\n",
              "      <td>2.958234</td>\n",
              "    </tr>\n",
              "    <tr>\n",
              "      <th>44</th>\n",
              "      <td>[(GUM, HNL), (HNL, ORD), (ORD, LAX), (LAX, CLD)]</td>\n",
              "      <td>[0.5679758308157099, 0.7073170731707317, 0.531...</td>\n",
              "      <td>[0.23821039903264818, 0.14913341394598956, 0.6...</td>\n",
              "      <td>2.949516</td>\n",
              "    </tr>\n",
              "    <tr>\n",
              "      <th>41</th>\n",
              "      <td>[(GUM, HNL), (HNL, LAS), (LAS, LAX), (LAX, CLD)]</td>\n",
              "      <td>[0.5679758308157099, 0.626387176325524, 0.4609...</td>\n",
              "      <td>[0.23821039903264818, 0.4476017734784361, 0.95...</td>\n",
              "      <td>2.948480</td>\n",
              "    </tr>\n",
              "    <tr>\n",
              "      <th>45</th>\n",
              "      <td>[(GUM, HNL), (HNL, PHX), (PHX, LAX), (LAX, CLD)]</td>\n",
              "      <td>[0.5679758308157099, 0.5901785714285714, 0.504...</td>\n",
              "      <td>[0.23821039903264818, 0.4163643692059653, 0.92...</td>\n",
              "      <td>2.941102</td>\n",
              "    </tr>\n",
              "    <tr>\n",
              "      <th>30</th>\n",
              "      <td>[(GUM, HNL), (HNL, ATL), (ATL, LAX), (LAX, CLD)]</td>\n",
              "      <td>[0.5679758308157099, 0.6265060240963856, 0.625...</td>\n",
              "      <td>[0.23821039903264818, 0.0969367190648932, 0.61...</td>\n",
              "      <td>2.939183</td>\n",
              "    </tr>\n",
              "    <tr>\n",
              "      <th>40</th>\n",
              "      <td>[(GUM, HNL), (HNL, OAK), (OAK, LAX), (LAX, CLD)]</td>\n",
              "      <td>[0.5679758308157099, 0.6339113680154143, 0.407...</td>\n",
              "      <td>[0.23821039903264818, 0.5187424425634825, 0.93...</td>\n",
              "      <td>2.915609</td>\n",
              "    </tr>\n",
              "    <tr>\n",
              "      <th>29</th>\n",
              "      <td>[(GUM, HNL), (HNL, SJC), (SJC, LAX), (LAX, CLD)]</td>\n",
              "      <td>[0.5679758308157099, 0.5595667870036101, 0.407...</td>\n",
              "      <td>[0.23821039903264818, 0.517130189439742, 0.942...</td>\n",
              "      <td>2.842401</td>\n",
              "    </tr>\n",
              "    <tr>\n",
              "      <th>46</th>\n",
              "      <td>[(GUM, HNL), (HNL, JFK), (JFK, LAX), (LAX, CLD)]</td>\n",
              "      <td>[0.5679758308157099, 0.4872611464968153, 0.661...</td>\n",
              "      <td>[0.23821039903264818, 0.0, 0.5054413542926239,...</td>\n",
              "      <td>2.784841</td>\n",
              "    </tr>\n",
              "  </tbody>\n",
              "</table>\n",
              "</div>"
            ],
            "text/plain": [
              "                                         individuals  ... fitness_values\n",
              "25  [(GUM, HNL), (HNL, SLC), (SLC, LAX), (LAX, CLD)]  ...       3.245882\n",
              "35  [(GUM, HNL), (HNL, LIH), (LIH, LAX), (LAX, CLD)]  ...       3.217191\n",
              "38  [(GUM, HNL), (HNL, MSP), (MSP, LAX), (LAX, CLD)]  ...       3.164179\n",
              "36  [(GUM, HNL), (HNL, KOA), (KOA, LAX), (LAX, CLD)]  ...       3.143932\n",
              "39  [(GUM, HNL), (HNL, ITO), (ITO, LAX), (LAX, CLD)]  ...       3.120897\n",
              "32  [(GUM, HNL), (HNL, OGG), (OGG, LAX), (LAX, CLD)]  ...       3.093537\n",
              "43  [(GUM, HNL), (HNL, PDX), (PDX, LAX), (LAX, CLD)]  ...       3.057494\n",
              "27  [(GUM, HNL), (HNL, SAN), (SAN, LAX), (LAX, CLD)]  ...       3.056526\n",
              "31  [(GUM, HNL), (HNL, SFO), (SFO, LAX), (LAX, CLD)]  ...       3.017156\n",
              "33  [(GUM, HNL), (HNL, DFW), (DFW, LAX), (LAX, CLD)]  ...       3.007446\n",
              "26  [(GUM, HNL), (HNL, DEN), (DEN, LAX), (LAX, CLD)]  ...       2.968059\n",
              "37  [(GUM, HNL), (HNL, IAD), (IAD, LAX), (LAX, CLD)]  ...       2.960990\n",
              "28  [(GUM, HNL), (HNL, SEA), (SEA, LAX), (LAX, CLD)]  ...       2.958234\n",
              "44  [(GUM, HNL), (HNL, ORD), (ORD, LAX), (LAX, CLD)]  ...       2.949516\n",
              "41  [(GUM, HNL), (HNL, LAS), (LAS, LAX), (LAX, CLD)]  ...       2.948480\n",
              "45  [(GUM, HNL), (HNL, PHX), (PHX, LAX), (LAX, CLD)]  ...       2.941102\n",
              "30  [(GUM, HNL), (HNL, ATL), (ATL, LAX), (LAX, CLD)]  ...       2.939183\n",
              "40  [(GUM, HNL), (HNL, OAK), (OAK, LAX), (LAX, CLD)]  ...       2.915609\n",
              "29  [(GUM, HNL), (HNL, SJC), (SJC, LAX), (LAX, CLD)]  ...       2.842401\n",
              "46  [(GUM, HNL), (HNL, JFK), (JFK, LAX), (LAX, CLD)]  ...       2.784841\n",
              "\n",
              "[20 rows x 4 columns]"
            ]
          },
          "metadata": {
            "tags": []
          },
          "execution_count": 50
        }
      ]
    },
    {
      "cell_type": "markdown",
      "metadata": {
        "id": "xal4BpmKThaU",
        "colab_type": "text"
      },
      "source": [
        "PLOTTA LE FITNESS VALUE MIGLIORI E L'ANDAMENTO\n",
        "\n"
      ]
    },
    {
      "cell_type": "code",
      "metadata": {
        "id": "jSexldkl5zQw",
        "colab_type": "code",
        "outputId": "44f45bf0-dd27-4d9f-edb1-5603bca4ca89",
        "colab": {
          "base_uri": "https://localhost:8080/",
          "height": 279
        }
      },
      "source": [
        "plt.ticklabel_format(style='plain', axis='x', useOffset=False)\n",
        "plt.plot(Q,F)\n",
        "#plt.gca().xaxis.set_major_locator(mticker.MultipleLocator(1))\n",
        "plt.ylabel('Fitness value of best fitted individual')\n",
        "plt.xlabel('Generation')\n",
        "plt.axhline(y=max_value_constant, color='r', linestyle='-')\n",
        "plt.text(i/1.3, max_value_constant - ( max_value_constant*0.001) ,'Max value without Genetic Algorithm ', ha='right', va='center')\n",
        "plt.show()"
      ],
      "execution_count": 51,
      "outputs": [
        {
          "output_type": "display_data",
          "data": {
            "image/png": "[encoded data removed]",
            "text/plain": [
              "<Figure size 432x288 with 1 Axes>"
            ]
          },
          "metadata": {
            "tags": []
          }
        }
      ]
    },
    {
      "cell_type": "code",
      "metadata": {
        "id": "0ADJk77Hhd2g",
        "colab_type": "code",
        "colab": {}
      },
      "source": [
        "#lista_valori_max"
      ],
      "execution_count": 0,
      "outputs": []
    },
    {
      "cell_type": "markdown",
      "metadata": {
        "id": "f4pRoXjZEGOh",
        "colab_type": "text"
      },
      "source": [
        "VISUALIZZA IL VALORE MAX CHE IL GA TROVA AD OGNI ITERAZIONE (DOPO MUTATION E CROSSOVER)"
      ]
    },
    {
      "cell_type": "code",
      "metadata": {
        "id": "-FL9iNyqK3HN",
        "colab_type": "code",
        "outputId": "0715ac75-9645-40a7-bf07-3c1ff6a4ac2f",
        "colab": {
          "base_uri": "https://localhost:8080/",
          "height": 279
        }
      },
      "source": [
        "plt.ticklabel_format(style='plain', axis='x', useOffset=False)\n",
        "plt.plot(lista_indici_max, lista_valori_max)\n",
        "#plt.gca().xaxis.set_major_locator(mticker.MultipleLocator(1))\n",
        "plt.ylabel('Max value')\n",
        "plt.xlabel('Iteration')\n",
        "plt.axhline(y=max_value_constant, color='r', linestyle='-')\n",
        "plt.text(i/1.3, max_value_constant + ( max_value_constant*0.01) ,'Max value without Genetic Algorithm ', ha='right', va='center')\n",
        "plt.show()"
      ],
      "execution_count": 53,
      "outputs": [
        {
          "output_type": "display_data",
          "data": {
            "image/png": "[encoded data removed]",
            "text/plain": [
              "<Figure size 432x288 with 1 Axes>"
            ]
          },
          "metadata": {
            "tags": []
          }
        }
      ]
    },
    {
      "cell_type": "code",
      "metadata": {
        "id": "qWNdkIMVoLVO",
        "colab_type": "code",
        "colab": {}
      },
      "source": [
        "lista_prova_indici_valori = lista_valori_max"
      ],
      "execution_count": 0,
      "outputs": []
    },
    {
      "cell_type": "code",
      "metadata": {
        "id": "Y83_ZDX3oYFf",
        "colab_type": "code",
        "outputId": "d36d5ba9-ea03-4a20-9970-77bca45e8d91",
        "colab": {
          "base_uri": "https://localhost:8080/",
          "height": 55
        }
      },
      "source": [
        "print(lista_prova_indici_valori)"
      ],
      "execution_count": 55,
      "outputs": [
        {
          "output_type": "stream",
          "text": [
            "[0, 2.4586391897624336, 3.1439320958304817, 0, 2.4586391897624336, 2.4586391897624336, 2.4586391897624336, 2.4586391897624336, 2.4586391897624336, 2.4586391897624336, 0, 3.120897024956096, 2.4586391897624336, 2.4586391897624336, 0, 3.1439320958304817, 2.4586391897624336, 2.4586391897624336, 3.2171909964952885, 2.4586391897624336, 2.4586391897624336, 2.4586391897624336, 2.4586391897624336, 2.4586391897624336, 3.120897024956096, 2.8424011883028064, 2.4586391897624336, 2.4586391897624336, 2.4586391897624336, 2.9680587295877645, 2.4586391897624336, 2.4586391897624336, 2.9680587295877645, 2.4586391897624336, 2.4586391897624336, 2.4586391897624336, 2.948480081641291, 2.738446893265013, 3.2171909964952885, 0, 2.4586391897624336, 0, 2.4586391897624336, 2.948480081641291, 2.4586391897624336, 2.4586391897624336, 2.9680587295877645, 3.0935368022271974, 2.4586391897624336, 2.9156091787022875, 2.949516202537505, 0, 2.948480081641291, 0, 2.4586391897624336, 2.4586391897624336, 2.4586391897624336, 2.4586391897624336, 2.4586391897624336, 2.4586391897624336, 2.4586391897624336, 2.4586391897624336, 2.4586391897624336, 2.4586391897624336, 2.949516202537505, 2.4586391897624336, 3.0935368022271974, 3.017156263797034, 2.9156091787022875, 2.4586391897624336, 2.4586391897624336, 2.4586391897624336, 2.4586391897624336, 3.0565259853706963, 0, 2.941102278794712, 2.4586391897624336, 2.4586391897624336, 2.4586391897624336, 3.0935368022271974, 3.120897024956096, 2.4586391897624336, 2.4586391897624336, 0, 2.4586391897624336, 2.4586391897624336, 2.6760464913594526, 2.4586391897624336, 0, 2.4586391897624336, 2.4586391897624336, 2.4586391897624336, 2.4586391897624336, 2.4586391897624336, 0, 2.4586391897624336, 2.738446893265013, 0, 3.05749389107612, 0, 2.8424011883028064, 2.4586391897624336, 2.9156091787022875, 3.0565259853706963, 2.4586391897624336, 3.0935368022271974, 0, 2.8424011883028064, 3.0935368022271974, 2.4586391897624336, 0, 2.4586391897624336, 2.6760464913594526, 2.4586391897624336, 2.8424011883028064, 2.4586391897624336, 3.120897024956096, 3.007445682983034, 2.4586391897624336, 2.4586391897624336, 2.738446893265013, 2.4586391897624336, 2.4586391897624336, 2.4586391897624336, 2.7848405970041092, 0, 0, 2.7848405970041092, 2.4586391897624336, 2.4586391897624336, 0, 2.9609904247328362, 2.4586391897624336, 2.9680587295877645, 2.4586391897624336, 2.4586391897624336, 2.4586391897624336, 3.007445682983034, 2.4586391897624336, 2.4586391897624336, 2.4586391897624336, 2.4586391897624336, 3.0565259853706963, 2.8424011883028064, 2.949516202537505, 2.8424011883028064, 2.9680587295877645, 0, 2.4586391897624336, 3.1439320958304817, 2.4586391897624336, 2.4586391897624336, 2.4586391897624336, 2.958234445194615, 2.9156091787022875, 3.1439320958304817, 2.4586391897624336, 2.6760464913594526, 2.4586391897624336, 3.0935368022271974, 3.120897024956096, 0, 2.4586391897624336, 2.8424011883028064, 2.4586391897624336, 2.4586391897624336, 2.4586391897624336, 2.4586391897624336, 2.4586391897624336, 2.4586391897624336, 2.4586391897624336, 2.8424011883028064, 2.4586391897624336, 3.120897024956096, 2.4586391897624336, 3.1439320958304817, 0, 3.0565259853706963, 2.949516202537505, 2.4586391897624336, 2.4586391897624336, 0, 2.738446893265013, 2.4586391897624336, 3.0565259853706963, 0, 2.4586391897624336, 2.4586391897624336, 2.948480081641291, 2.941102278794712, 2.948480081641291, 2.4586391897624336, 2.4586391897624336, 0, 2.4586391897624336, 2.4586391897624336, 2.948480081641291, 0, 2.4586391897624336, 2.4586391897624336, 2.4586391897624336, 2.4586391897624336, 2.4586391897624336, 2.6760464913594526, 2.4586391897624336, 2.4586391897624336, 2.4586391897624336, 3.0935368022271974, 2.4586391897624336, 2.4586391897624336, 3.1641787800822616, 2.4586391897624336, 2.4586391897624336, 2.4586391897624336, 2.4586391897624336, 3.0565259853706963, 2.4586391897624336, 2.4586391897624336, 2.4586391897624336, 3.2171909964952885, 2.9680587295877645, 2.4586391897624336, 3.0935368022271974, 2.4586391897624336, 2.4586391897624336, 2.4586391897624336, 3.2171909964952885, 2.4586391897624336, 2.4586391897624336, 2.4586391897624336, 3.017156263797034, 2.4586391897624336, 3.0565259853706963, 2.4586391897624336, 2.738446893265013, 2.4586391897624336, 2.4586391897624336, 2.4586391897624336, 3.007445682983034, 2.958234445194615, 2.4586391897624336, 0, 2.4586391897624336, 2.4586391897624336, 2.4586391897624336, 2.4586391897624336, 2.4586391897624336, 2.4586391897624336, 2.4586391897624336, 2.948480081641291, 2.4586391897624336, 2.4586391897624336, 2.4586391897624336, 2.8424011883028064, 2.939182585002558, 2.4586391897624336, 2.4586391897624336, 2.4586391897624336, 2.4586391897624336, 2.4586391897624336, 2.4586391897624336, 2.4586391897624336, 2.958234445194615, 0, 2.948480081641291, 2.4586391897624336, 3.0565259853706963, 2.4586391897624336, 0, 2.6760464913594526, 2.4586391897624336, 2.4586391897624336, 2.4586391897624336, 3.120897024956096, 3.0565259853706963, 2.4586391897624336, 2.4586391897624336, 0, 2.4586391897624336, 2.4586391897624336, 2.4586391897624336, 2.4586391897624336, 2.4586391897624336, 2.958234445194615, 3.120897024956096, 2.4586391897624336, 2.4586391897624336, 3.1439320958304817, 2.4586391897624336, 2.4586391897624336, 3.05749389107612, 2.4586391897624336, 2.4586391897624336, 2.4586391897624336, 3.1439320958304817, 2.948480081641291, 0, 3.2171909964952885, 2.4586391897624336, 2.4586391897624336, 2.9156091787022875, 3.0935368022271974, 2.4586391897624336, 3.007445682983034, 2.4586391897624336, 2.4586391897624336, 2.4586391897624336, 2.4586391897624336, 2.4586391897624336, 2.738446893265013, 2.4586391897624336, 2.4586391897624336, 0, 3.05749389107612, 2.4586391897624336, 2.4586391897624336, 0, 2.4586391897624336, 3.007445682983034, 2.4586391897624336, 3.0935368022271974, 2.4586391897624336, 2.4586391897624336, 3.0935368022271974, 2.4586391897624336, 2.7848405970041092, 2.941102278794712, 2.4586391897624336, 2.4586391897624336, 0, 2.4586391897624336, 2.4586391897624336, 3.1439320958304817, 2.4586391897624336, 2.4586391897624336, 3.017156263797034, 2.4586391897624336, 2.4586391897624336, 3.007445682983034, 0, 2.941102278794712, 2.4586391897624336, 2.4586391897624336, 2.8424011883028064, 3.05749389107612, 2.4586391897624336, 0, 2.4586391897624336, 2.948480081641291, 2.4586391897624336, 0, 2.958234445194615, 3.0565259853706963, 2.9156091787022875, 0, 2.4586391897624336, 2.941102278794712, 2.4586391897624336, 3.2458822832084873, 2.4586391897624336, 0, 2.4586391897624336, 2.958234445194615, 2.4586391897624336, 2.4586391897624336, 2.4586391897624336, 0, 0, 2.4586391897624336, 3.1439320958304817, 0, 2.4586391897624336, 2.4586391897624336, 2.4586391897624336, 2.4586391897624336, 2.9609904247328362, 2.4586391897624336, 2.4586391897624336, 2.4586391897624336, 2.4586391897624336, 0, 2.4586391897624336, 2.4586391897624336, 2.4586391897624336, 2.4586391897624336, 3.017156263797034, 2.4586391897624336, 2.4586391897624336, 2.4586391897624336, 2.9609904247328362, 2.4586391897624336, 2.9156091787022875, 2.4586391897624336, 2.4586391897624336, 3.017156263797034, 2.4586391897624336, 0, 3.0565259853706963, 0, 2.4586391897624336, 2.4586391897624336, 2.958234445194615, 2.4586391897624336, 3.1439320958304817, 3.007445682983034, 2.4586391897624336, 2.4586391897624336, 2.4586391897624336, 3.007445682983034, 2.9156091787022875, 2.4586391897624336, 3.120897024956096, 2.4586391897624336, 2.4586391897624336, 2.4586391897624336, 2.4586391897624336, 2.4586391897624336, 2.4586391897624336, 3.0565259853706963, 0, 3.1439320958304817, 2.4586391897624336, 2.4586391897624336, 3.1439320958304817, 2.939182585002558, 2.738446893265013, 2.4586391897624336, 0, 2.4586391897624336, 2.4586391897624336, 2.4586391897624336, 2.4586391897624336, 2.4586391897624336, 2.948480081641291, 2.4586391897624336, 3.017156263797034, 3.0935368022271974, 2.4586391897624336, 2.941102278794712, 2.4586391897624336, 2.4586391897624336, 3.1439320958304817, 3.0935368022271974, 2.4586391897624336, 2.941102278794712, 2.4586391897624336, 0, 0, 2.4586391897624336, 2.4586391897624336, 0, 3.2171909964952885, 2.4586391897624336, 2.941102278794712, 2.4586391897624336, 2.7848405970041092, 2.4586391897624336, 0, 3.1439320958304817, 0, 2.4586391897624336, 2.4586391897624336, 2.4586391897624336, 2.4586391897624336, 2.4586391897624336, 2.9609904247328362, 0, 2.4586391897624336, 2.738446893265013, 3.1641787800822616, 2.948480081641291, 2.4586391897624336, 0, 2.4586391897624336, 2.941102278794712, 2.4586391897624336, 2.4586391897624336, 0, 3.05749389107612, 2.4586391897624336, 2.4586391897624336, 2.4586391897624336, 2.949516202537505, 0, 2.4586391897624336, 2.4586391897624336, 0, 2.4586391897624336, 0, 2.4586391897624336, 2.4586391897624336, 0, 2.4586391897624336, 3.05749389107612, 0, 2.941102278794712, 2.4586391897624336, 2.4586391897624336, 2.4586391897624336, 2.4586391897624336]\n"
          ],
          "name": "stdout"
        }
      ]
    },
    {
      "cell_type": "code",
      "metadata": {
        "id": "RQ97Cza1o0Zt",
        "colab_type": "code",
        "colab": {}
      },
      "source": [
        "lista_prova_indici_valori.sort() "
      ],
      "execution_count": 0,
      "outputs": []
    },
    {
      "cell_type": "markdown",
      "metadata": {
        "id": "z8sviKrxEAas",
        "colab_type": "text"
      },
      "source": [
        "VISUALIZZA LA CLASSIFICA DEI VALORI MAX"
      ]
    },
    {
      "cell_type": "code",
      "metadata": {
        "id": "der8hLnFqDM5",
        "colab_type": "code",
        "outputId": "d951de01-3a3d-43a9-8cda-5cdf44df0e28",
        "colab": {
          "base_uri": "https://localhost:8080/",
          "height": 297
        }
      },
      "source": [
        "matplotlib.pyplot.bar(lista_indici_max, lista_prova_indici_valori)\n",
        "plt.xlim(xmin=0)\n",
        "#plt.gca().xaxis.set_major_locator(mticker.MultipleLocator(1))\n",
        "plt.ylabel('Fitness value of best fitted individual')\n",
        "plt.xlabel('rank of max values')\n",
        "plt.axhline(y=max_value_constant, color='r', linestyle='-')\n",
        "plt.text(i/1.3, max_value_constant + ( max_value_constant*0.01) ,'Max value without Genetic Algorithm ', ha='right', va='center')\n",
        "#plt.show()"
      ],
      "execution_count": 57,
      "outputs": [
        {
          "output_type": "execute_result",
          "data": {
            "text/plain": [
              "Text(383.8461538461538, 1.5871234717183933, 'Max value without Genetic Algorithm ')"
            ]
          },
          "metadata": {
            "tags": []
          },
          "execution_count": 57
        },
        {
          "output_type": "display_data",
          "data": {
            "image/png": "[encoded data removed]",
            "text/plain": [
              "<Figure size 432x288 with 1 Axes>"
            ]
          },
          "metadata": {
            "tags": []
          }
        }
      ]
    }
  ]
}